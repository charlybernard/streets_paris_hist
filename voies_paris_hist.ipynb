{
 "cells": [
  {
   "cell_type": "markdown",
   "metadata": {},
   "source": [
    "## Variables"
   ]
  },
  {
   "cell_type": "markdown",
   "metadata": {},
   "source": [
    "### Import libraries"
   ]
  },
  {
   "cell_type": "code",
   "execution_count": 236,
   "metadata": {},
   "outputs": [],
   "source": [
    "import os\n",
    "import urllib.parse as up\n",
    "from rdflib import Graph\n",
    "import code.functions as fn"
   ]
  },
  {
   "cell_type": "markdown",
   "metadata": {},
   "source": [
    "### Define global variables"
   ]
  },
  {
   "cell_type": "code",
   "execution_count": 237,
   "metadata": {},
   "outputs": [],
   "source": [
    "addr_ont_file = \"address_ont.ttl\"\n",
    "ev_ont_file = \"events_ont.ttl\"\n",
    "\n",
    "mapping_file = \"mapping.json\"\n",
    "export_file = \"addresses-temp.ttl\"\n",
    "out_file = \"addresses.ttl\"\n",
    "\n",
    "temp_folder = \"tmp_files\"\n",
    "source_folder = \"sources\"\n",
    "mapping_folder = \"mappings\"\n",
    "\n",
    "export_format = \"TURTLE\"\n",
    "\n",
    "project_name = \"voies_paris_hist\" \n",
    "graphdb_url = \"http://localhost:7200\"\n",
    "\n",
    "sources = [\n",
    "    {\"filename\": \"andriveau_1849_am.csv\", \"mapping_file\":\"mapping_andriveau_1849_am.json\",\"graphname\":\"andriveau1849\", \"date\":\"1849-01-01\"},\n",
    "    {\"filename\": \"atlas_municipal_1888_am.csv\", \"mapping_file\":\"mapping_atlas_municipal_1888_am.json\",\"graphname\":\"atlasMunicipal1888\", \"date\":\"1888-01-01\"},\n",
    "    {\"filename\": \"piquet_1826_am.csv\", \"mapping_file\":\"mapping_piquet_1826_am.json\",\"graphname\":\"piquet1826\", \"date\":\"1826-01-01\"},\n",
    "    {\"filename\": \"verniquet_1791_am.csv\", \"mapping_file\":\"mapping_verniquet_1791_am.json\",\"graphname\":\"verniquet1791\", \"date\":\"1791-01-01\"},\n",
    "]\n",
    "\n",
    "local_config_file_name = \"config_repo.ttl\""
   ]
  },
  {
   "cell_type": "markdown",
   "metadata": {},
   "source": [
    "### Process variables"
   ]
  },
  {
   "cell_type": "code",
   "execution_count": 238,
   "metadata": {},
   "outputs": [],
   "source": [
    "temp_folder = os.path.abspath(temp_folder)\n",
    "source_folder = os.path.abspath(source_folder)\n",
    "mapping_folder = os.path.abspath(mapping_folder)\n",
    "fn.create_folder_if_not_exists(temp_folder)\n",
    "\n",
    "local_config_file_name = os.path.join(temp_folder, local_config_file_name)"
   ]
  },
  {
   "cell_type": "markdown",
   "metadata": {},
   "source": [
    "## Creation of local repository"
   ]
  },
  {
   "cell_type": "code",
   "execution_count": 239,
   "metadata": {},
   "outputs": [
    {
     "name": "stdout",
     "output_type": "stream",
     "text": [
      "{\"message\":\"Repository voies_paris_hist already exists.\"}"
     ]
    },
    {
     "name": "stderr",
     "output_type": "stream",
     "text": [
      "  % Total    % Received % Xferd  Average Speed   Time    Time     Time  Current\n",
      "                                 Dload  Upload   Total   Spent    Left  Speed\n",
      "100  1649    0    57  100  1592   2538  70909 --:--:-- --:--:-- --:--:--  134k\n"
     ]
    },
    {
     "data": {
      "text/plain": [
       "0"
      ]
     },
     "execution_count": 239,
     "metadata": {},
     "output_type": "execute_result"
    }
   ],
   "source": [
    "fn.create_config_local_repository_file(local_config_file_name, project_name)\n",
    "url = f\"{graphdb_url}/rest/repositories\"\n",
    "curl_cmd_local = fn.get_curl_command(\"POST\", url, content_type=\"multipart/form-data\", form=f\"config=@{local_config_file_name}\")\n",
    "os.system(curl_cmd_local)"
   ]
  },
  {
   "cell_type": "markdown",
   "metadata": {},
   "source": [
    "## Process to create / import data"
   ]
  },
  {
   "cell_type": "markdown",
   "metadata": {},
   "source": [
    "### Queries to build graph from Wikidata"
   ]
  },
  {
   "cell_type": "markdown",
   "metadata": {},
   "source": [
    ":warning: Impossible to chain queries for Wikidata, it has to be split"
   ]
  },
  {
   "cell_type": "code",
   "execution_count": 240,
   "metadata": {},
   "outputs": [],
   "source": [
    "# Get streets of Paris, with label, altLabel and their locations\n",
    "query1 = \"\"\"\n",
    "PREFIX addr: <http://rdf.geohistoricaldata.org/address#>\n",
    "\n",
    "CONSTRUCT {\n",
    " ?street a addr:Landmark;\n",
    "           addr:isLandmarkType addr:Thoroughfare;\n",
    "           rdfs:label ?streetLabel;\n",
    "           skos:altLabel ?streetAltLabel;\n",
    "           addr:within ?loc ;\n",
    "           addr:hasAttribute ?officialNameAttr.\n",
    "}\n",
    "WHERE {\n",
    "  { ?street p:P361 [ps:P361 wd:Q16024163]. }\n",
    "  UNION\n",
    "  { ?street p:P361 [ps:P361 wd:Q107311481]. }\n",
    "  ?street wdt:P131 ?loc.\n",
    "  ?street rdfs:label ?streetLabel.\n",
    "  FILTER (LANG(?streetLabel) = \"fr\")\n",
    "  OPTIONAL {?street skos:altLabel ?streetAltLabel. FILTER (LANG(?streetAltLabel) = \"fr\")}\n",
    "}\n",
    "\"\"\"\n",
    "\n",
    "# Get official name of streets and its history\n",
    "query2 = \"\"\"\n",
    "PREFIX addr: <http://rdf.geohistoricaldata.org/address#>\n",
    "\n",
    "CONSTRUCT {\n",
    "  ?street addr:hasAttributeVersion ?officialNameSt.\n",
    "  ?officialNameSt a addr:AttributeVersion; addr:isAttributeType addr:NameAttribute; addr:value ?officialName.\n",
    "  ?startEvent a addr:Event; addr:eventTimeValue ?startDateValue; addr:eventTimePrecision ?startDatePrec.\n",
    "  ?endEvent a addr:Event; addr:eventTimeValue ?endDateValue; addr:eventTimePrecision ?startDatePrec.\n",
    "  ?startChange a addr:AttributeChange; addr:isChangeType addr:NameChange; addr:dependsOn ?startEvent; addr:after ?officialNameSt.\n",
    "  ?endChange a addr:AttributeChange; addr:isChangeType addr:NameChange; addr:dependsOn ?endEvent; addr:before ?officialNameSt.\n",
    "}\n",
    "WHERE {\n",
    "  { ?street p:P361 [ps:P361 wd:Q16024163]. }\n",
    "  UNION\n",
    "  { ?street p:P361 [ps:P361 wd:Q107311481]. }\n",
    "    ?street p:P1448 ?officialNameSt. \n",
    "    ?officialNameSt ps:P1448 ?officialName.\n",
    "    OPTIONAL{?officialNameSt pqv:P580 [wikibase:timeValue ?startDateValue; wikibase:timePrecision ?startDatePrec]}\n",
    "    OPTIONAL{?officialNameSt pqv:P582 [wikibase:timeValue ?endDateValue; wikibase:timePrecision ?endDatePrec]}\n",
    "    #FILTER (LANG(?officialName) = \"fr\")\n",
    "    BIND(URI(CONCAT(\"http://rdf.geohistoricaldata.org/address#EV_\", STRUUID())) AS ?startEvent)\n",
    "    BIND(URI(CONCAT(\"http://rdf.geohistoricaldata.org/address#CH_\", STRUUID())) AS ?startChange)\n",
    "    BIND(URI(CONCAT(\"http://rdf.geohistoricaldata.org/address#EV_\", STRUUID())) AS ?endEvent)\n",
    "    BIND(URI(CONCAT(\"http://rdf.geohistoricaldata.org/address#CH_\", STRUUID())) AS ?endChange)\n",
    "}\n",
    "\"\"\"\n",
    "\n",
    "# Get creation and dissolution dates of streets\n",
    "query3 = \"\"\"\n",
    "PREFIX addr: <http://rdf.geohistoricaldata.org/address#>\n",
    "\n",
    "CONSTRUCT {\n",
    "  ?startEvent a addr:Event; addr:eventTimeValue ?creationTimeValue; addr:eventTimePrecision ?creationTimePrecision.\n",
    "  ?endEvent a addr:Event; addr:eventTimeValue ?dissoulutionTimeValue; addr:eventTimePrecision ?dissoulutionTimePrecision.\n",
    "  ?startChange a addr:LandmarkChange; addr:isChangeType addr:Creation; addr:appliedTo ?street; addr:dependsOn ?startEvent.\n",
    "  ?endChange a addr:LandmarkChange; addr:isChangeType addr:Dissolution; addr:appliedTo ?street; addr:dependsOn ?endEvent.\n",
    "}\n",
    "WHERE {\n",
    "  { ?street p:P361 [ps:P361 wd:Q16024163]. }\n",
    "  UNION\n",
    "  { ?street p:P361 [ps:P361 wd:Q107311481]. }\n",
    "    OPTIONAL { ?street p:P571 [psv:P571 [wikibase:timeValue ?creationTimeValue; wikibase:timePrecision ?creationTimePrecision]]. }\n",
    "    OPTIONAL { ?street p:P576 [psv:P576 [wikibase:timeValue ?dissoulutionTimeValue; wikibase:timePrecision ?dissoulutionTimePrecision]]. }\n",
    "\n",
    "    BIND(URI(CONCAT(\"http://rdf.geohistoricaldata.org/address#EV_\", STRUUID())) AS ?startEvent)\n",
    "    BIND(URI(CONCAT(\"http://rdf.geohistoricaldata.org/address#CH_\", STRUUID())) AS ?startChange)\n",
    "    BIND(URI(CONCAT(\"http://rdf.geohistoricaldata.org/address#EV_\", STRUUID())) AS ?endEvent)\n",
    "    BIND(URI(CONCAT(\"http://rdf.geohistoricaldata.org/address#CH_\", STRUUID())) AS ?endChange)\n",
    "}\n",
    "\"\"\"\n",
    "\n",
    "# Get related data of municipal arrondissements of Paris\n",
    "query4 = \"\"\"\n",
    "PREFIX addr: <http://rdf.geohistoricaldata.org/address#>\n",
    "\n",
    "CONSTRUCT {\n",
    "  ?arrdt a addr:Landmark;\n",
    "           addr:isLandmarkType addr:District;\n",
    "           rdfs:label ?arrdtLabel;\n",
    "           skos:altLabel ?arrdtAltLabel;\n",
    "           addr:within wd:Q90;\n",
    "           addr:startDate ?startDate.\n",
    "}\n",
    "WHERE {\n",
    "  ?arrdt wdt:P31 wd:Q702842; p:P131 [ps:P131 wd:Q90]; rdfs:label ?arrdtLabel; skos:altLabel ?arrdtAltLabel.\n",
    "  FILTER(LANG(?arrdtLabel) = \"fr\" && LANG(?arrdtAltLabel) = \"fr\")\n",
    "  OPTIONAL {?arrdt wdt:P571 ?startDate}\n",
    "}\n",
    "\"\"\"\n",
    "\n",
    "# Get related data of quartiers of Paris\n",
    "query5 = \"\"\"\n",
    "PREFIX addr: <http://rdf.geohistoricaldata.org/address#>\n",
    "\n",
    "CONSTRUCT {\n",
    "  ?quartier a addr:Landmark;\n",
    "           addr:isLandmarkType addr:District;\n",
    "           rdfs:label ?quartierLabel;\n",
    "           skos:altLabel ?quartierAltLabel;\n",
    "           addr:within ?loc.\n",
    "}\n",
    "WHERE {\n",
    "  ?quartier wdt:P31 wd:Q252916; rdfs:label ?quartierLabel; skos:altLabel ?quartierAltLabel; p:P131 [ps:P131 ?loc].\n",
    "  FILTER(LANG(?quartierLabel) = \"fr\" && LANG(?quartierAltLabel) = \"fr\")\n",
    "}\n",
    "\"\"\"\n",
    "\n",
    "# Get related data of Paris\n",
    "query6 = \"\"\"\n",
    "PREFIX addr: <http://rdf.geohistoricaldata.org/address#>\n",
    "\n",
    "CONSTRUCT {\n",
    "  ?paris a addr:Landmark;\n",
    "           addr:isLandmarkType addr:City;\n",
    "           rdfs:label ?parisLabel;\n",
    "           skos:altLabel ?parisAltLabel.\n",
    "}\n",
    "WHERE {\n",
    "  BIND (wd:Q90 AS ?paris)\n",
    "  ?paris rdfs:label ?parisLabel; skos:altLabel ?parisAltLabel.\n",
    "  FILTER(LANG(?parisLabel) = \"fr\" && LANG(?parisAltLabel) = \"fr\")\n",
    "}\n",
    "\"\"\"\n",
    "\n",
    "wiki_queries = [query1, query2, query3, query4, query5, query6]"
   ]
  },
  {
   "cell_type": "code",
   "execution_count": 241,
   "metadata": {},
   "outputs": [],
   "source": [
    "# Get streets of Paris with the history of their official name\n",
    "loc_query_1 = \"\"\"\n",
    "PREFIX addr: <http://rdf.geohistoricaldata.org/address#>\n",
    "PREFIX ofn: <http://www.ontotext.com/sparql/functions/>\n",
    "INSERT {\n",
    "    ?changeNameEvent a addr:Event;\n",
    "                     addr:isEventType addr:ChangeName;\n",
    "                     addr:before ?eventBeforeAttr1;\n",
    "                     addr:after ?eventAfterAttr2;\n",
    "                     addr:eventTimeValue ?eventAfterAttr2TimeVal;\n",
    "                     addr:eventTimePrecision ?eventAfterAttr2TimePre.                                                                  \n",
    "}\n",
    "WHERE {\n",
    "    ?elem addr:isLandmarkType addr:Thoroughfare; addr:hasAttribute ?attr1; addr:hasAttribute ?attr2.\n",
    "    ?attr1 addr:isAttributeType addr:Name.\n",
    "    ?attr2 addr:isAttributeType addr:Name.\n",
    "    ?eventBeforeAttr1 addr:before ?attr1; addr:eventTimeValue ?eventBeforeAttr1TimeVal; addr:eventTimePrecision ?eventBeforeAttr1TimePre.\n",
    "    ?eventAfterAttr2 addr:after ?attr2; addr:eventTimeValue ?eventAfterAttr2TimeVal; addr:eventTimePrecision ?eventAfterAttr2TimePre.\n",
    "    FILTER (?attr1 != ?attr2)\n",
    "    BIND(ofn:asDays(?eventAfterAttr2TimeVal - ?eventBeforeAttr1TimeVal) AS ?diffTime)\n",
    "    FILTER(?diffTime >= 0.0)\n",
    "    FILTER ((?diffTime <= 1.0 && ?eventBeforeAttr1TimePre = 11 && ?eventAfterAttr2TimePre = 11) ||\n",
    "         (?diffTime <= 32.0 && ?eventBeforeAttr1TimePre = 10 && ?eventAfterAttr2TimePre = 10) ||\n",
    "          (?diffTime <= 366.0 && ?eventBeforeAttr1TimePre = 9 && ?eventAfterAttr2TimePre = 9) ||\n",
    "          (?diffTime <= 366.0*10 && ?eventBeforeAttr1TimePre = 8 && ?eventAfterAttr2TimePre = 8) ||\n",
    "          (?diffTime <= 366.0*100 && ?eventBeforeAttr1TimePre = 7 && ?eventAfterAttr2TimePre = 7) \n",
    "         )\n",
    "    BIND(URI(CONCAT(\"http://rdf.geohistoricaldata.org/address#\", STRUUID())) AS ?changeNameEvent)\n",
    "}\n",
    "\"\"\"\n",
    "\n",
    "loc_query_1 = \"\"\"\n",
    "PREFIX addr: <http://rdf.geohistoricaldata.org/address#>\n",
    "\n",
    "INSERT {\n",
    "    ?street addr:hasAttribute ?attrName.\n",
    "    ?attrName a addr:Attribute; addr:isAttributeType addr:NameAttribute.\n",
    "}\n",
    "WHERE {\n",
    "    BIND(URI(CONCAT(\"http://rdf.geohistoricaldata.org/address#AN_\", STRUUID())) AS ?attrName)\n",
    "    ?street a addr:Landmark; addr:isLandmarkType addr:Thoroughfare.\n",
    "    BIND(URI(CONCAT(\"http://rdf.geohistoricaldata.org/address#AN_\", STRUUID())) AS ?x)\n",
    "}\n",
    "\"\"\"\n",
    "\n",
    "loc_query_2 = \"\"\"\n",
    "PREFIX addr: <http://rdf.geohistoricaldata.org/address#>\n",
    "\n",
    "DELETE {\n",
    "     ?street addr:hasAttributeVersion ?attrNameVersion.\n",
    "     ?attrNameVersion addr:isAttributeType addr:NameAttribute.\n",
    "}\n",
    "INSERT {\n",
    "    ?attrName addr:version ?attrNameVersion.\n",
    "    ?change addr:appliedTo ?attrName.\n",
    "}\n",
    "WHERE {\n",
    "    ?attrNameVersion a addr:AttributeVersion; addr:isAttributeType addr:NameAttribute.\n",
    "    ?attrName a addr:Attribute; addr:isAttributeType addr:NameAttribute.\n",
    "    ?street a addr:Landmark; addr:isLandmarkType addr:Thoroughfare; addr:hasAttributeVersion ?attrNameVersion; addr:hasAttribute ?attrName.\n",
    "    ?change a addr:AttributeChange; (addr:before|addr:after) ?attrNameVersion.\n",
    "}\n",
    "\"\"\"\n",
    "\n",
    "loc_queries = [loc_query_1, loc_query_2]"
   ]
  },
  {
   "cell_type": "markdown",
   "metadata": {},
   "source": [
    "### Extract street data of Paris from Wikidata"
   ]
  },
  {
   "cell_type": "code",
   "execution_count": 242,
   "metadata": {},
   "outputs": [],
   "source": [
    "abs_export_file = os.path.abspath(os.path.join(temp_folder, export_file))"
   ]
  },
  {
   "cell_type": "code",
   "execution_count": 243,
   "metadata": {},
   "outputs": [
    {
     "data": {
      "text/plain": [
       "<Graph identifier=Nbff575ff237b4ea0a428e623e1c37503 (<class 'rdflib.graph.Graph'>)>"
      ]
     },
     "execution_count": 243,
     "metadata": {},
     "output_type": "execute_result"
    }
   ],
   "source": [
    "g = Graph()\n",
    "for query in wiki_queries:\n",
    "    keep_on_query = True\n",
    "    max_loop_nb = 100\n",
    "    loop_nb = 0\n",
    "    limit = 500\n",
    "    offset = 0\n",
    "    while keep_on_query and loop_nb <= max_loop_nb:\n",
    "        q = query + f'\\nLIMIT {limit} OFFSET {offset}'\n",
    "        query_result = fn.get_construct_query_wikidata(q)\n",
    "        offset += limit\n",
    "        loop_nb += 1\n",
    "        if len(query_result) == 0:\n",
    "            keep_on_query = False\n",
    "        else:   \n",
    "            g += query_result\n",
    "\n",
    "g.serialize(destination=abs_export_file)"
   ]
  },
  {
   "cell_type": "markdown",
   "metadata": {},
   "source": [
    "### Remove all data of repository whose id is `project_name`"
   ]
  },
  {
   "cell_type": "code",
   "execution_count": 260,
   "metadata": {},
   "outputs": [
    {
     "name": "stderr",
     "output_type": "stream",
     "text": [
      "  % Total    % Received % Xferd  Average Speed   Time    Time     Time  Current\n",
      "                                 Dload  Upload   Total   Spent    Left  Speed\n",
      "  0     0    0     0    0     0      0      0 --:--:-- --:--:-- --:--:--     0\n"
     ]
    },
    {
     "data": {
      "text/plain": [
       "0"
      ]
     },
     "execution_count": 260,
     "metadata": {},
     "output_type": "execute_result"
    }
   ],
   "source": [
    "url = f\"{graphdb_url}/repositories/{project_name}/statements\"\n",
    "cmd = fn.get_curl_command(\"DELETE\", url, content_type=\"application/x-turtle\")\n",
    "os.system(cmd)"
   ]
  },
  {
   "cell_type": "markdown",
   "metadata": {},
   "source": [
    "### Import ontologies"
   ]
  },
  {
   "cell_type": "code",
   "execution_count": 261,
   "metadata": {},
   "outputs": [
    {
     "name": "stderr",
     "output_type": "stream",
     "text": [
      "  % Total    % Received % Xferd  Average Speed   Time    Time     Time  Current\n",
      "                                 Dload  Upload   Total   Spent    Left  Speed\n",
      "100 19366    0     0  100 19366      0  83198 --:--:-- --:--:-- --:--:-- 85690\n",
      "  % Total    % Received % Xferd  Average Speed   Time    Time     Time  Current\n",
      "                                 Dload  Upload   Total   Spent    Left  Speed\n",
      "100  7154    0     0  100  7154      0  47197 --:--:-- --:--:-- --:--:-- 49337\n"
     ]
    },
    {
     "data": {
      "text/plain": [
       "0"
      ]
     },
     "execution_count": 261,
     "metadata": {},
     "output_type": "execute_result"
    }
   ],
   "source": [
    "abs_addr_ont_file = os.path.abspath(addr_ont_file)\n",
    "abs_ev_ont_file = os.path.abspath(ev_ont_file)\n",
    "                              \n",
    "url = f\"{graphdb_url}/repositories/{project_name}/statements\"\n",
    "cmd_1 = fn.get_curl_command(\"POST\", url, content_type=\"application/x-turtle\", local_file=abs_addr_ont_file)\n",
    "cmd_2 = fn.get_curl_command(\"POST\", url, content_type=\"application/x-turtle\", local_file=abs_ev_ont_file)\n",
    "\n",
    "os.system(cmd_1)\n",
    "os.system(cmd_2)"
   ]
  },
  {
   "cell_type": "markdown",
   "metadata": {},
   "source": [
    "### Import created graph from Wikidata"
   ]
  },
  {
   "cell_type": "code",
   "execution_count": 262,
   "metadata": {},
   "outputs": [
    {
     "name": "stderr",
     "output_type": "stream",
     "text": [
      "  % Total    % Received % Xferd  Average Speed   Time    Time     Time  Current\n",
      "                                 Dload  Upload   Total   Spent    Left  Speed\n",
      "100 12.1M    0     0  100 12.1M      0  1817k  0:00:06  0:00:06 --:--:--     0\n"
     ]
    },
    {
     "data": {
      "text/plain": [
       "0"
      ]
     },
     "execution_count": 262,
     "metadata": {},
     "output_type": "execute_result"
    }
   ],
   "source": [
    "url = f\"{graphdb_url}/repositories/{project_name}/rdf-graphs/wikidata\"\n",
    "cmd = fn.get_curl_command(\"POST\", url, content_type=\"application/x-turtle\", local_file=abs_export_file)\n",
    "os.system(cmd)"
   ]
  },
  {
   "cell_type": "markdown",
   "metadata": {},
   "source": [
    "### Clean data of graph"
   ]
  },
  {
   "cell_type": "code",
   "execution_count": 263,
   "metadata": {},
   "outputs": [],
   "source": [
    "url = f\"{graphdb_url}/repositories/{project_name}/statements\"\n",
    "for loc_query in loc_queries:\n",
    "    query_encoded = up.quote(loc_query)\n",
    "    cmd = fn.get_curl_command(\"POST\", url, content_type=\"application/x-www-form-urlencoded\", post_data=f\"update={query_encoded}\")\n",
    "    #os.system(cmd)"
   ]
  }
 ],
 "metadata": {
  "kernelspec": {
   "display_name": "Python 3",
   "language": "python",
   "name": "python3"
  },
  "language_info": {
   "codemirror_mode": {
    "name": "ipython",
    "version": 3
   },
   "file_extension": ".py",
   "mimetype": "text/x-python",
   "name": "python",
   "nbconvert_exporter": "python",
   "pygments_lexer": "ipython3",
   "version": "3.9.0"
  },
  "orig_nbformat": 4
 },
 "nbformat": 4,
 "nbformat_minor": 2
}
