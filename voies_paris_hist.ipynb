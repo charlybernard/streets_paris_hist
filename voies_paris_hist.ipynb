{
 "cells": [
  {
   "cell_type": "markdown",
   "metadata": {},
   "source": [
    "## Variables"
   ]
  },
  {
   "cell_type": "markdown",
   "metadata": {},
   "source": [
    "### Import des librairies"
   ]
  },
  {
   "cell_type": "code",
   "execution_count": 1,
   "metadata": {},
   "outputs": [],
   "source": [
    "import os\n",
    "import urllib.parse as up\n",
    "from rdflib import Graph\n",
    "import code.functions as fn"
   ]
  },
  {
   "cell_type": "markdown",
   "metadata": {},
   "source": [
    "### Définition des variables globales"
   ]
  },
  {
   "cell_type": "code",
   "execution_count": 2,
   "metadata": {},
   "outputs": [],
   "source": [
    "# Fichiers existants\n",
    "addr_ont_file = \"address_ont.ttl\"\n",
    "ev_ont_file = \"events_ont.ttl\"\n",
    "\n",
    "# Fichiers créés durant le processus\n",
    "export_file = \"addresses-temp.ttl\"\n",
    "out_file = \"addresses.ttl\"\n",
    "local_config_file_name = \"config_repo.ttl\"\n",
    "\n",
    "temp_folder = \"tmp_files\"\n",
    "source_folder = \"sources\"\n",
    "mapping_folder = \"mappings\"\n",
    "wikidata_folder = \"wikidata\"\n",
    "\n",
    "project_name = \"voies_paris_hist\" \n",
    "graphdb_url = \"http://localhost:7200\"\n",
    "\n",
    "wd_graph_name = \"wikidata\"\n",
    "addr_graph_name = \"local_street\""
   ]
  },
  {
   "cell_type": "markdown",
   "metadata": {},
   "source": [
    "### Traitement des variables globales\n",
    "\n",
    "* Obtention des chemins absolus des fichiers à partir des chemins relatifs donnés dans la section précédente\n",
    "* Création d'un dossier temporaire s'il n'existe pas encore pour stocker des fichiers à vocation d'être supprimés"
   ]
  },
  {
   "cell_type": "code",
   "execution_count": 3,
   "metadata": {},
   "outputs": [],
   "source": [
    "temp_folder = os.path.abspath(temp_folder)\n",
    "wikidata_folder = os.path.join(temp_folder, wikidata_folder)\n",
    "source_folder = os.path.abspath(source_folder)\n",
    "mapping_folder = os.path.abspath(mapping_folder)\n",
    "\n",
    "fn.create_folder_if_not_exists(temp_folder)\n",
    "fn.create_folder_if_not_exists(wikidata_folder)\n",
    "\n",
    "local_config_file_name = os.path.join(temp_folder, local_config_file_name)"
   ]
  },
  {
   "cell_type": "markdown",
   "metadata": {},
   "source": [
    "## Gestion du répertoire local"
   ]
  },
  {
   "cell_type": "markdown",
   "metadata": {},
   "source": [
    "### Création du répertoire local dans GraphDB\n",
    "Pour que la création marche, il faut que GraphDB soit lancé et donc que l'URI donné par `graphdb_url` fonctionne. Si le répertoire existe déjà, rien n'est fait"
   ]
  },
  {
   "cell_type": "code",
   "execution_count": 4,
   "metadata": {},
   "outputs": [
    {
     "name": "stdout",
     "output_type": "stream",
     "text": [
      "{\"message\":\"Repository voies_paris_hist already exists.\"}"
     ]
    },
    {
     "name": "stderr",
     "output_type": "stream",
     "text": [
      "  % Total    % Received % Xferd  Average Speed   Time    Time     Time  Current\n",
      "                                 Dload  Upload   Total   Spent    Left  Speed\n",
      "100  1649    0    57  100  1592   1545  43156 --:--:-- --:--:-- --:--:-- 54966\n"
     ]
    },
    {
     "data": {
      "text/plain": [
       "0"
      ]
     },
     "execution_count": 4,
     "metadata": {},
     "output_type": "execute_result"
    }
   ],
   "source": [
    "fn.create_config_local_repository_file(local_config_file_name, project_name)\n",
    "url = f\"{graphdb_url}/rest/repositories\"\n",
    "curl_cmd_local = fn.get_curl_command(\"POST\", url, content_type=\"multipart/form-data\", form=f\"config=@{local_config_file_name}\")\n",
    "os.system(curl_cmd_local)"
   ]
  },
  {
   "cell_type": "markdown",
   "metadata": {},
   "source": [
    "### Vidage du répertoire local\n",
    "Le répertoire dont l'id est `project_name` pour y stocker les données récupérées, cela est utile si le répertoire existait déjà."
   ]
  },
  {
   "cell_type": "code",
   "execution_count": 13,
   "metadata": {},
   "outputs": [
    {
     "name": "stderr",
     "output_type": "stream",
     "text": [
      "  % Total    % Received % Xferd  Average Speed   Time    Time     Time  Current\n",
      "                                 Dload  Upload   Total   Spent    Left  Speed\n",
      "  0     0    0     0    0     0      0      0 --:--:-- --:--:-- --:--:--     0\n"
     ]
    },
    {
     "data": {
      "text/plain": [
       "0"
      ]
     },
     "execution_count": 13,
     "metadata": {},
     "output_type": "execute_result"
    }
   ],
   "source": [
    "url = f\"{graphdb_url}/repositories/{project_name}/statements\"\n",
    "cmd = fn.get_curl_command(\"DELETE\", url, content_type=\"application/x-turtle\")\n",
    "os.system(cmd)"
   ]
  },
  {
   "cell_type": "markdown",
   "metadata": {},
   "source": [
    "### Import des ontologies"
   ]
  },
  {
   "cell_type": "code",
   "execution_count": 5,
   "metadata": {},
   "outputs": [
    {
     "name": "stderr",
     "output_type": "stream",
     "text": [
      "  % Total    % Received % Xferd  Average Speed   Time    Time     Time  Current\n",
      "                                 Dload  Upload   Total   Spent    Left  Speed\n",
      "100 19366    0     0  100 19366      0   105k --:--:-- --:--:-- --:--:--  112k\n",
      "  % Total    % Received % Xferd  Average Speed   Time    Time     Time  Current\n",
      "                                 Dload  Upload   Total   Spent    Left  Speed\n",
      "100 12901    0     0  100 12901      0  73114 --:--:-- --:--:-- --:--:-- 75444\n"
     ]
    },
    {
     "data": {
      "text/plain": [
       "0"
      ]
     },
     "execution_count": 5,
     "metadata": {},
     "output_type": "execute_result"
    }
   ],
   "source": [
    "abs_addr_ont_file = os.path.abspath(addr_ont_file)\n",
    "abs_ev_ont_file = os.path.abspath(ev_ont_file)\n",
    "                              \n",
    "url = f\"{graphdb_url}/repositories/{project_name}/statements\"\n",
    "cmd_1 = fn.get_curl_command(\"POST\", url, content_type=\"application/x-turtle\", local_file=abs_addr_ont_file)\n",
    "cmd_2 = fn.get_curl_command(\"POST\", url, content_type=\"application/x-turtle\", local_file=abs_ev_ont_file)\n",
    "\n",
    "os.system(cmd_1)\n",
    "os.system(cmd_2)"
   ]
  },
  {
   "cell_type": "markdown",
   "metadata": {},
   "source": [
    "## Import des données de Wikidata\n",
    "Récupération des fichiers ttl d'éléments de Wikidata (voies, quartiers, arrondissements de Paris). Ensuite ces fichiers sont importés dans le répertoire local."
   ]
  },
  {
   "cell_type": "markdown",
   "metadata": {},
   "source": [
    "### Récupération des éléments de Wikidata\n",
    "Pour chaque élément Wikidata décrivant une rue de Paris, on extrait un fichier `ttl` le décrivant.\n",
    "Ce processus peut prendre du temps (environ 1 heure et demie) du fait du nombre d'éléments à récupérer (presque 7000)."
   ]
  },
  {
   "cell_type": "markdown",
   "metadata": {},
   "source": [
    "#### Création des requêtes\n",
    "Création des requêtes pour récupérer les données liées aux voies de Paris et une autre pour avoir les zones de la ville (quartiers administratifs et arrondissements)"
   ]
  },
  {
   "cell_type": "code",
   "execution_count": 15,
   "metadata": {},
   "outputs": [],
   "source": [
    "qid_variable = \"qid\"\n",
    "\n",
    "query_streets = f\"\"\"\n",
    "SELECT DISTINCT ?{qid_variable}\n",
    "WHERE {{\n",
    "{{?{qid_variable} p:P361 [ps:P361 wd:Q16024163].}}\n",
    "UNION\n",
    "{{?{qid_variable} p:P361 [ps:P361 wd:Q107311481].}}\n",
    "}}\n",
    "ORDER BY ?{qid_variable}\n",
    "\"\"\"\n",
    "\n",
    "query_areas = f\"\"\"\n",
    "SELECT DISTINCT ?qid WHERE {{\n",
    "  {{BIND (wd:Q90 AS ?{qid_variable}) }}\n",
    "  UNION{{?{qid_variable} p:P31 [ps:P31 wd:Q252916].}}\n",
    "  UNION{{?{qid_variable} p:P31 [ps:P31 wd:Q702842]; p:P131 [ps:P131 wd:Q90].}}\n",
    "}}\n",
    "\"\"\""
   ]
  },
  {
   "cell_type": "markdown",
   "metadata": {},
   "source": [
    "#### Lancement des requêtes"
   ]
  },
  {
   "cell_type": "code",
   "execution_count": 16,
   "metadata": {},
   "outputs": [],
   "source": [
    "# # Décommenter ces lignes pour récupérer les données\n",
    "\n",
    "# # Récupération des voies de Paris\n",
    "# fn.get_ttl_files_from_wikidata_query(query_streets, qid_variable, wikidata_folder, flavor=\"dump\")\n",
    "\n",
    "# #Récupération des zones de Paris\n",
    "# fn.get_ttl_files_from_wikidata_query(query_areas, qid_variable, wikidata_folder, flavor=\"dump\")"
   ]
  },
  {
   "cell_type": "markdown",
   "metadata": {},
   "source": [
    "### Import des fichiers `ttl` venant de Wikidata\n",
    "Importer tous les fichiers ttl dans un graphe nommé défini par `wd_graph_name` dans le répertoire (une dizaine de minutes pour 7000 fichiers)"
   ]
  },
  {
   "cell_type": "code",
   "execution_count": null,
   "metadata": {},
   "outputs": [],
   "source": [
    "fn.upload_ttl_folder_in_graphdb_repository(wikidata_folder, graphdb_url, project_name, wd_graph_name)"
   ]
  },
  {
   "cell_type": "markdown",
   "metadata": {},
   "source": [
    "## Traitements pour créer / importer des données"
   ]
  },
  {
   "cell_type": "markdown",
   "metadata": {},
   "source": [
    "### Requêtes SPARQL pour construire le graphe des rues de Paris à partir de Wikidata"
   ]
  },
  {
   "cell_type": "markdown",
   "metadata": {},
   "source": [
    ":warning: Impossible de chaîner les requêtes sur le endpoint de Wikidata, d'où la séparation de celles-ci sous plusieurs variables\n",
    "\n",
    "Note : `wd:Q16024163` décrit l'élément `réseau viaire de Paris` donc le triplet `?street p:P361 [ps:P361 wd:Q16024163].` permet de sélectionner les élements qui font partie de ce réseau. `wd:Q107311481` est similaire à la différence qu'il décrit l'élément `anciennes voies de Paris`.\n",
    "\n",
    "* `query_1` : sélection des voies de Paris avec leur label, leurs potentiels alias, ainsi que leur localisation (arrondissements et/ou quartiers)\n",
    "* `query_2` : sélection des voies de Paris avec l'ensemble de leur nom officiel avec si elles existent les dates de début et de fin de validité du nom officiel pour la voie\n",
    "* `query_3` : sélection (si elles existent) des dates de création et de disparition des voies de Paris\n",
    "* `query_4` : sélection des arrondissements de Paris avec leur label, leurs potentiels alias et leur localisation (qui est normalement Paris, ie `wd:Q90`)\n",
    "* `query_5` : similaire à `query_4` mais repose sur les quartiers de Paris (leur localisation est normalement un arrondissement)\n",
    "* `query_6` : récupération de données sur la ville de Paris (label, alias)\n"
   ]
  },
  {
   "cell_type": "code",
   "execution_count": 21,
   "metadata": {},
   "outputs": [
    {
     "name": "stderr",
     "output_type": "stream",
     "text": [
      "  % Total    % Received % Xferd  Average Speed   Time    Time     Time  Current\n",
      "                                 Dload  Upload   Total   Spent    Left  Speed\n",
      "100  1883    0  1883    0     0   122k      0 --:--:-- --:--:-- --:--:--  262k\n"
     ]
    }
   ],
   "source": [
    "# Récupération de l'URI des graphes à partir de leur nom\n",
    "wd_graph_name_uri = fn.get_graph_uri_from_name(graphdb_url, project_name, wd_graph_name)\n",
    "addr_graph_name_uri = fn.get_graph_uri_from_name(graphdb_url, project_name, addr_graph_name)\n",
    "\n",
    "# Récupération des préfixes pour les requêtes\n",
    "prefixes = fn.get_repository_prefixes(graphdb_url, project_name)\n",
    "prefixes += f\"\\nPREFIX ofn:<http://www.ontotext.com/sparql/functions/>\""
   ]
  },
  {
   "cell_type": "code",
   "execution_count": 22,
   "metadata": {},
   "outputs": [],
   "source": [
    "# Structurer les rues de Paris, et les zones selon notre modèle\n",
    "\n",
    "# Vider le graphe `addr_graph_name_uri`\n",
    "query0 = prefixes + f\"\"\"\n",
    "DELETE {{ ?s ?p ?o }}\n",
    "WHERE {{ GRAPH <{addr_graph_name_uri}> {{ ?s ?p ?o }} }}\n",
    "\"\"\"\n",
    "\n",
    "# Création des rues de Paris et ajout d'un lien owl:sameAs avec son équivalent sur Wikidata\n",
    "query1 = prefixes + f\"\"\"\n",
    "INSERT {{ GRAPH <{addr_graph_name_uri}> {{\n",
    "  ?landmark a addr:Landmark;\n",
    "           addr:isLandmarkType addr:Thoroughfare;\n",
    "           addr:hasAttribute ?attrName;\n",
    "           owl:sameAs ?street.\n",
    "  ?attrName a addr:Attribute; addr:isAttributeType addr:NameAttribute.\n",
    "}} }}\n",
    "WHERE {{\n",
    "  {{ ?street p:P361 [ps:P361 wd:Q16024163]. }}\n",
    "  UNION\n",
    "  {{ ?street p:P361 [ps:P361 wd:Q107311481]. }}\n",
    "  BIND(IF(1=1, URI(CONCAT(\"http://rdf.geohistoricaldata.org/address#LM_\", STRUUID())), ?x) AS ?landmark)\n",
    "  BIND(IF(1=1, URI(CONCAT(\"http://rdf.geohistoricaldata.org/address#AN_\", STRUUID())), ?x) AS ?attrName)\n",
    "  }}\n",
    "\"\"\"\n",
    "\n",
    "query2 = prefixes + f\"\"\"\n",
    "INSERT {{ GRAPH <{addr_graph_name_uri}> {{\n",
    " ?landmark rdfs:label ?streetLabel;\n",
    "           skos:altLabel ?streetAltLabel;\n",
    "           addr:within ?loc ;\n",
    "           addr:hasAttribute ?officialNameAttr.\n",
    "}} }}\n",
    "WHERE {{\n",
    "  ?landmark a addr:Landmark; addr:isLandmarkType addr:Thoroughfare; owl:sameAs ?street.\n",
    "  ?street wdt:P131 ?loc.\n",
    "  ?street rdfs:label ?streetLabel.\n",
    "  FILTER (LANG(?streetLabel) = \"fr\")\n",
    "  OPTIONAL {{?street skos:altLabel ?streetAltLabel. FILTER (LANG(?streetAltLabel) = \"fr\")}}\n",
    "}}\n",
    "\"\"\"\n",
    "\n",
    "# Obtention des noms officiels des rues\n",
    "query3 = prefixes + f\"\"\"\n",
    "INSERT {{ GRAPH <{addr_graph_name_uri}> {{\n",
    "  ?attrName addr:version ?attrNameVersion.\n",
    "  ?attrNameVersion owl:sameAs ?officialNameSt; a addr:AttributeVersion; addr:value ?officialName.\n",
    "  ?startEvent a addr:Event; addr:hasTime ?startTimeInstant.\n",
    "  ?endEvent a addr:Event; addr:hasTime ?endTimeInstant.\n",
    "  ?startChange a addr:AttributeChange; addr:isChangeType addr:NameChange; addr:dependsOn ?startEvent; addr:appliedTo ?attrName; addr:after ?attrNameVersion.\n",
    "  ?endChange a addr:AttributeChange; addr:isChangeType addr:NameChange; addr:dependsOn ?endEvent; addr:appliedTo ?attrName; addr:before ?attrNameVersion.\n",
    "  ?startTimeInstant a addr:TimeInstant; addr:timeStamp ?startDateValue; addr:timePrecision ?startDatePrec; addr:timeCalendar ?startDateCal.\n",
    "  ?endTimeInstant a addr:TimeInstant; addr:timeStamp ?endDateValue; addr:timePrecision ?endDatePrec; addr:timeCalendar ?endDateCal.\n",
    "}} }}\n",
    "WHERE {{\n",
    "  ?landmark a addr:Landmark; addr:isLandmarkType addr:Thoroughfare; owl:sameAs [p:P1448 ?officialNameSt]; addr:hasAttribute ?attrName.\n",
    "  ?attrName a addr:Attribute; addr:isAttributeType addr:NameAttribute.\n",
    "  ?officialNameSt ps:P1448 ?officialName.\n",
    "  OPTIONAL{{?officialNameSt pqv:P580 [wikibase:timeValue ?startDateValue; wikibase:timePrecision ?startDatePrec; wikibase:timeCalendarModel ?startDateCal]}}\n",
    "  OPTIONAL{{?officialNameSt pqv:P582 [wikibase:timeValue ?endDateValue; wikibase:timePrecision ?endDatePrec; wikibase:timeCalendarModel ?endDateCal]}}\n",
    "  FILTER (LANG(?officialName) = \"fr\")\n",
    "  BIND(IF(1=1, URI(CONCAT(\"http://rdf.geohistoricaldata.org/address#ANV_\", STRUUID())), ?x) AS ?attrNameVersion)\n",
    "  BIND(IF(1=1, URI(CONCAT(\"http://rdf.geohistoricaldata.org/address#EV_\", STRUUID())), ?x) AS ?startEvent)\n",
    "  BIND(IF(1=1, URI(CONCAT(\"http://rdf.geohistoricaldata.org/address#CH_\", STRUUID())), ?x) AS ?startChange)\n",
    "  BIND(IF(1=1, URI(CONCAT(\"http://rdf.geohistoricaldata.org/address#EV_\", STRUUID())), ?x) AS ?endEvent)\n",
    "  BIND(IF(1=1, URI(CONCAT(\"http://rdf.geohistoricaldata.org/address#CH_\", STRUUID())), ?x) AS ?endChange)\n",
    "  BIND(IF(1=1, URI(CONCAT(\"http://rdf.geohistoricaldata.org/address#TE_\", STRUUID())), ?x) AS ?startTimeInstant)\n",
    "  BIND(IF(1=1, URI(CONCAT(\"http://rdf.geohistoricaldata.org/address#TE_\", STRUUID())), ?x) AS ?endTimeInstant)\n",
    "}}\n",
    "\"\"\"\n",
    "\n",
    "# Obtention des dates de création et des dissolution des rues\n",
    "query4 = prefixes + f\"\"\"\n",
    "INSERT {{ GRAPH <{addr_graph_name_uri}> {{\n",
    "  ?startEvent a addr:Event; addr:hasTime ?startTimeInstant.\n",
    "  ?endEvent a addr:Event; addr:hasTime ?endTimeInstant.\n",
    "  ?startChange a addr:LandmarkChange; addr:isChangeType addr:Creation; addr:appliedTo ?landmark; addr:dependsOn ?startEvent.\n",
    "  ?endChange a addr:LandmarkChange; addr:isChangeType addr:Dissolution; addr:appliedTo ?landmark; addr:dependsOn ?endEvent.\n",
    "  ?startTimeInstant a addr:TimeInstant; addr:timeStamp ?creationTimeValue; addr:timePrecision ?creationTimePrec; addr:timeCalendar ?creationTimeCal.\n",
    "  ?endTimeInstant a addr:TimeInstant; addr:timeStamp ?dissolutionTimeValue; addr:timePrecision ?dissolutionTimePrec; addr:timeCalendar ?dissolutionTimeCal.\n",
    "}} }}\n",
    "WHERE {{\n",
    "  ?landmark a addr:Landmark; addr:isLandmarkType addr:Thoroughfare; owl:sameAs ?street.\n",
    "  OPTIONAL {{ ?street p:P571 [psv:P571 [wikibase:timeValue ?creationTimeValue; wikibase:timePrecision ?creationTimePrec; wikibase:timeCalendarModel ?creationTimeCal]]. }}\n",
    "  OPTIONAL {{ ?street p:P576 [psv:P576 [wikibase:timeValue ?dissolutionTimeValue; wikibase:timePrecision ?dissolutionTimePrec; wikibase:timeCalendarModel ?dissolutionTimeCal]]. }}\n",
    "  BIND(IF(1=1, URI(CONCAT(\"http://rdf.geohistoricaldata.org/address#EV_\", STRUUID())), ?x) AS ?startEvent)\n",
    "  BIND(IF(1=1, URI(CONCAT(\"http://rdf.geohistoricaldata.org/address#CH_\", STRUUID())), ?x) AS ?startChange)\n",
    "  BIND(IF(1=1, URI(CONCAT(\"http://rdf.geohistoricaldata.org/address#EV_\", STRUUID())), ?x) AS ?endEvent)\n",
    "  BIND(IF(1=1, URI(CONCAT(\"http://rdf.geohistoricaldata.org/address#CH_\", STRUUID())), ?x) AS ?endChange)\n",
    "  BIND(IF(1=1, URI(CONCAT(\"http://rdf.geohistoricaldata.org/address#TE_\", STRUUID())), ?x) AS ?startTimeInstant)\n",
    "  BIND(IF(1=1, URI(CONCAT(\"http://rdf.geohistoricaldata.org/address#TE_\", STRUUID())), ?x) AS ?endTimeInstant)\n",
    "}}\n",
    "\"\"\"\n",
    "\n",
    "# Données relatives aux arrondissements de Paris\n",
    "query5 = prefixes + f\"\"\"\n",
    "INSERT {{ GRAPH <{addr_graph_name_uri}> {{\n",
    "  ?landmark a addr:Landmark;\n",
    "           addr:isLandmarkType addr:District;\n",
    "           rdfs:label ?arrdtLabel;\n",
    "           skos:altLabel ?arrdtAltLabel;\n",
    "           addr:within wd:Q90;\n",
    "           addr:startDate ?startDate;\n",
    "           owl:sameAs ?arrdt.\n",
    "}} }}\n",
    "WHERE {{\n",
    "  ?arrdt wdt:P31 wd:Q702842; p:P131 [ps:P131 wd:Q90]; rdfs:label ?arrdtLabel; skos:altLabel ?arrdtAltLabel.\n",
    "  FILTER(LANG(?arrdtLabel) = \"fr\" && LANG(?arrdtAltLabel) = \"fr\")\n",
    "  OPTIONAL {{?arrdt wdt:P571 ?startDate}}\n",
    "  BIND(IF(1=1, URI(CONCAT(\"http://rdf.geohistoricaldata.org/address#LM_\", STRUUID())), ?x) AS ?landmark)\n",
    "}}\n",
    "\"\"\"\n",
    "\n",
    "# Données relatives aux quartiers administratifs de Paris\n",
    "query6 = prefixes + f\"\"\"\n",
    "INSERT {{ GRAPH <{addr_graph_name_uri}> {{\n",
    "  ?landmark a addr:Landmark;\n",
    "           addr:isLandmarkType addr:District;\n",
    "           rdfs:label ?quartierLabel;\n",
    "           skos:altLabel ?quartierAltLabel;\n",
    "           addr:within ?loc; \n",
    "           owl:sameAs ?quartier.\n",
    "}} }}\n",
    "WHERE {{\n",
    "  BIND(IF(1=1, URI(CONCAT(\"http://rdf.geohistoricaldata.org/address#LM_\", STRUUID())), ?x) AS ?landmark)\n",
    "  ?quartier wdt:P31 wd:Q252916; rdfs:label ?quartierLabel; skos:altLabel ?quartierAltLabel; p:P131 [ps:P131 ?loc].\n",
    "  FILTER(LANG(?quartierLabel) = \"fr\" && LANG(?quartierAltLabel) = \"fr\")\n",
    "  BIND(IF(1=1, URI(CONCAT(\"http://rdf.geohistoricaldata.org/address#LM_\", STRUUID())), ?x) AS ?landmark)\n",
    "}}\n",
    "\"\"\"\n",
    "\n",
    "# Données relatives à la ville de Paris\n",
    "query7 = prefixes + f\"\"\"\n",
    "INSERT {{ GRAPH <{addr_graph_name_uri}> {{\n",
    "  ?landmark a addr:Landmark;\n",
    "           addr:isLandmarkType addr:City;\n",
    "           rdfs:label ?parisLabel;\n",
    "           skos:altLabel ?parisAltLabel;\n",
    "           owl:sameAs ?paris.\n",
    "}} }}\n",
    "WHERE {{\n",
    "  BIND (wd:Q90 AS ?paris)\n",
    "  ?paris rdfs:label ?parisLabel; skos:altLabel ?parisAltLabel.\n",
    "  FILTER(LANG(?parisLabel) = \"fr\" && LANG(?parisAltLabel) = \"fr\")\n",
    "  BIND(IF(1=1, URI(CONCAT(\"http://rdf.geohistoricaldata.org/address#LM_\", STRUUID())), ?x) AS ?landmark)\n",
    "}}\n",
    "\"\"\"\n",
    "\n",
    "wiki_queries = [query0, query1, query2, query3, query4, query5, query6, query7]"
   ]
  },
  {
   "cell_type": "markdown",
   "metadata": {},
   "source": [
    "#### Traitements après l'import de données\n",
    "\n",
    "* `loc_query_1` : \n",
    "    * ajoute un élément de classe `addr:Attribute` relatif au nom de la voie qui permet d'avoir l'ensemble des noms officiels que cette dernière a porté durant son existence. Il est lié à la voie via le prédicat `addr:hasAttribute` ;\n",
    "    * `BIND(URI(...) AS ?z)` est appelé deux fois afin que `?attrName` soit unique pour chaque rue (sinon il possède la même valeur tout le temps).\n",
    "* `loc_query_2` : lors de la construction du graphe via les requêtes de la section précédente, les versions des noms sont liées directement aux voies (`?voie ?aPourVersionDeNom ?nomVersion`). Cette requête supprime ce triplet et associe `nomVersion` a l'élément crée grâce à `loc_query_1`. Ainsi, on a : `?voie ?aPourAttributDeNom ?nomAttribut. ?nomAttribut ?aPourVersionDeNom ?nomVersion.`\n",
    "* `loc_query_3` : fusion d'éléments de type `addr:Event` qui sont équivalents."
   ]
  },
  {
   "cell_type": "code",
   "execution_count": 23,
   "metadata": {},
   "outputs": [],
   "source": [
    "loc_query_0 = prefixes + f\"\"\"\n",
    "DELETE {{ \n",
    "    ?timeInstant addr:timePrecision ?timePrecision.\n",
    "}}\n",
    "INSERT {{ GRAPH <{addr_graph_name_uri}> {{\n",
    "    ?timeInstant addr:timePrecision ?timeUnit.\n",
    "}} }}\n",
    "WHERE {{ GRAPH <{addr_graph_name_uri}> {{\n",
    "    ?timeInstant a addr:TimeInstant; addr:timePrecision ?timePrecision.\n",
    "        BIND(IF(?timePrecision = 11, time:unitDay, \n",
    "                IF(?timePrecision = 10, time:unitMonth,\n",
    "                    IF(?timePrecision = 9, time:unitYear,\n",
    "                        IF(?timePrecision = 8, time:unitDecade,\n",
    "                            IF(?timePrecision = 7, time:unitCentury,\n",
    "                                IF(?timePrecision = 6, time:unitMillenium, ?x\n",
    "                            )))))) AS ?timeUnit)\n",
    "    }} }}\n",
    "\n",
    "\"\"\"\n",
    "\n",
    "loc_query_1 = prefixes + f\"\"\"\n",
    "\n",
    "DELETE {{\n",
    "    ?change1 ?p ?o.\n",
    "    ?event1 ?pe ?oe.\n",
    "    ?se ?pe ?event1.\n",
    "    ?timeInstant1 a addr:timeInstant; addr:timeStamp ?timeStamp1; addr:timePrecision ?timePrec1; addr:timeCalendar ?timeCal1.\n",
    "}}\n",
    "INSERT {{ GRAPH <{addr_graph_name_uri}> {{\n",
    "    ?change2 addr:before ?attrNameVersion1.\n",
    "}} }}\n",
    "WHERE {{\n",
    "    ?attrName a addr:Attribute; addr:isAttributeType addr:NameAttribute; addr:version ?attrNameVersion1, ?attrNameVersion2.\n",
    "    ?attrNameVersion1 a addr:AttributeVersion.\n",
    "    ?attrNameVersion2 a addr:AttributeVersion.\n",
    "    FILTER (?attrNameVersion1 != ?attrNameVersion2)\n",
    "    ?change1 a addr:AttributeChange; addr:before ?attrNameVersion1; addr:dependsOn ?event1.\n",
    "    ?event1 a addr:Event; addr:hasTime ?timeInstant1. \n",
    "    ?timeInstant1 a addr:TimeInstant; addr:timeStamp ?timeStamp1; addr:timePrecision ?timePrec1; addr:timeCalendar ?timeCal1.\n",
    "    ?change2 a addr:AttributeChange; addr:after ?attrNameVersion2; addr:dependsOn [a addr:Event; addr:hasTime [a addr:TimeInstant; addr:timeStamp ?timeStamp2; addr:timePrecision ?timePrec2; addr:timeCalendar ?timeCal2]].\n",
    "    BIND(ofn:asDays(?timeStamp2 - ?timeStamp1) AS ?diffTime)\n",
    "    FILTER(?diffTime >= 0.0 && ?timeCal1 = ?timeCal2)\n",
    "    FILTER ((?diffTime <= 1.0 && ?timePrec1 = time:unitDay && ?timePrec2 = time:unitDay) ||\n",
    "         (?diffTime <= 0 && ?timePrec1 != time:unitDay && ?timePrec2 != time:unitDay))\n",
    "    ?change1 ?p ?o.\n",
    "    {{?event1 ?pe ?oe}}UNION{{?se ?pe ?event1}}\n",
    "}}\n",
    "\"\"\"\n",
    "\n",
    "loc_query_2 = prefixes + f\"\"\"\n",
    "DELETE {{\n",
    "    ?creaEv ?p ?o.\n",
    "    ?s ?p ?creaEv.\n",
    "    ?crevEvTime a addr:TimeInstant; addr:timePrecision ?creaEvTimePrec; addr:timeStamp ?creaEvTimeVal; addr:timeCalendar ?creaEvTimeCal.\n",
    "}}\n",
    "INSERT {{ GRAPH <{addr_graph_name_uri}> {{\n",
    "    ?lmCrea addr:dependsOn ?attrNameEv.\n",
    "}} }}\n",
    "WHERE {{\n",
    "    ?lmCrea a addr:LandmarkChange; addr:isChangeType addr:Creation; addr:appliedTo ?landmark; addr:dependsOn ?creaEv.\n",
    "    ?creaEv a addr:Event; addr:hasTime ?crevEvTime.\n",
    "    ?crevEvTime a addr:TimeInstant; addr:timePrecision ?creaEvTimePrec; addr:timeStamp ?creaEvTimeVal; addr:timeCalendar ?creaEvTimeCal.\n",
    "    ?landmark a addr:Landmark; addr:isLandmarkType addr:Thoroughfare; addr:hasAttribute ?nameAttr.\n",
    "    ?attrNameChange a addr:AttributeChange; addr:appliedTo ?nameAttr; addr:dependsOn ?attrNameEv.\n",
    "    ?attrNameEv a addr:Event; addr:hasTime ?attrNameEvTime. \n",
    "    ?attrNameEvTime a addr:TimeInstant; addr:timePrecision ?newNameEvTimePrec; addr:timeStamp ?newNameEvTimeVal; addr:timeCalendar ?newNameEvTimeCal.\n",
    "    FILTER(?attrNameEv != ?creaEv)\n",
    "    BIND(ofn:asDays(?creaEvTimeVal - ?newNameEvTimeVal) AS ?diffTime)\n",
    "    FILTER(?diffTime >= 0.0 && ?newNameEvTimeCal = ?creaEvTimeCal)\n",
    "    FILTER ((?diffTime <= 1.0 && ?creaEvTimePrec = time:unitDay && ?newNameEvTimePrec = time:unitDay) ||\n",
    "         (?diffTime <= 0 && ?creaEvTimePrec != time:unitDay && ?timePrec2 != time:newNameEvTimePrec))\n",
    "        {{?creaEv ?p ?o}}UNION{{?s ?p ?creaEv}}\n",
    "}}\n",
    "\"\"\"\n",
    "\n",
    "loc_queries = [loc_query_0, loc_query_1, loc_query_2]"
   ]
  },
  {
   "cell_type": "markdown",
   "metadata": {},
   "source": [
    "#### Import et nettoyage des données"
   ]
  },
  {
   "cell_type": "markdown",
   "metadata": {},
   "source": [
    "Création d'un graphe nommé stockant les rues selon l'ontologie définie à partir des données de Wikidata"
   ]
  },
  {
   "cell_type": "code",
   "execution_count": 24,
   "metadata": {},
   "outputs": [
    {
     "name": "stderr",
     "output_type": "stream",
     "text": [
      "  % Total    % Received % Xferd  Average Speed   Time    Time     Time  Current\n",
      "                                 Dload  Upload   Total   Spent    Left  Speed\n",
      "  0     0    0     0    0     0      0      0 --:--:-- --:--:-- --:--:--     0"
     ]
    },
    {
     "name": "stderr",
     "output_type": "stream",
     "text": [
      "100  3164    0     0  100  3164      0    190  0:00:16  0:00:16 --:--:--     0\n",
      "  % Total    % Received % Xferd  Average Speed   Time    Time     Time  Current\n",
      "                                 Dload  Upload   Total   Spent    Left  Speed\n",
      "100  3974    0     0  100  3974      0   3618  0:00:01  0:00:01 --:--:--  3635\n",
      "  % Total    % Received % Xferd  Average Speed   Time    Time     Time  Current\n",
      "                                 Dload  Upload   Total   Spent    Left  Speed\n",
      "100  3805    0     0  100  3805      0   5736 --:--:-- --:--:-- --:--:--  5791\n",
      "  % Total    % Received % Xferd  Average Speed   Time    Time     Time  Current\n",
      "                                 Dload  Upload   Total   Spent    Left  Speed\n",
      "100  6217    0     0  100  6217      0     87  0:01:11  0:01:11 --:--:--     0\n",
      "  % Total    % Received % Xferd  Average Speed   Time    Time     Time  Current\n",
      "                                 Dload  Upload   Total   Spent    Left  Speed\n",
      "100  5595    0     0  100  5595      0    550  0:00:10  0:00:10 --:--:--     0\n",
      "  % Total    % Received % Xferd  Average Speed   Time    Time     Time  Current\n",
      "                                 Dload  Upload   Total   Spent    Left  Speed\n",
      "100  4079    0     0  100  4079      0  24922 --:--:-- --:--:-- --:--:-- 25816\n",
      "  % Total    % Received % Xferd  Average Speed   Time    Time     Time  Current\n",
      "                                 Dload  Upload   Total   Spent    Left  Speed\n",
      "100  4131    0     0  100  4131      0    627  0:00:06  0:00:06 --:--:--     0\n",
      "  % Total    % Received % Xferd  Average Speed   Time    Time     Time  Current\n",
      "                                 Dload  Upload   Total   Spent    Left  Speed\n",
      "100  3853    0     0  100  3853      0   4590 --:--:-- --:--:-- --:--:--  4614\n"
     ]
    }
   ],
   "source": [
    "url = f\"{graphdb_url}/repositories/{project_name}/statements\"\n",
    "\n",
    "for query in wiki_queries:\n",
    "    query_encoded = up.quote(query)\n",
    "    cmd = fn.get_curl_command(\"POST\", url, content_type=\"application/x-www-form-urlencoded\", post_data=f\"update={query_encoded}\")\n",
    "    os.system(cmd)"
   ]
  },
  {
   "cell_type": "markdown",
   "metadata": {},
   "source": [
    "Nettoyage des données en fusionnant certains événements et changements"
   ]
  },
  {
   "cell_type": "code",
   "execution_count": 25,
   "metadata": {},
   "outputs": [
    {
     "name": "stderr",
     "output_type": "stream",
     "text": [
      "  % Total    % Received % Xferd  Average Speed   Time    Time     Time  Current\n",
      "                                 Dload  Upload   Total   Spent    Left  Speed\n",
      "100  4396    0     0  100  4396      0   1107  0:00:03  0:00:03 --:--:--  1110\n",
      "  % Total    % Received % Xferd  Average Speed   Time    Time     Time  Current\n",
      "                                 Dload  Upload   Total   Spent    Left  Speed\n",
      "100  5222    0     0  100  5222      0   1238  0:00:04  0:00:04 --:--:--     0\n",
      "  % Total    % Received % Xferd  Average Speed   Time    Time     Time  Current\n",
      "                                 Dload  Upload   Total   Spent    Left  Speed\n",
      "100  5176    0     0  100  5176      0   3927  0:00:01  0:00:01 --:--:--  3942\n"
     ]
    }
   ],
   "source": [
    "url = f\"{graphdb_url}/repositories/{project_name}/statements\"\n",
    "\n",
    "for loc_query in loc_queries:\n",
    "    query_encoded = up.quote(loc_query)\n",
    "    cmd = fn.get_curl_command(\"POST\", url, content_type=\"application/x-www-form-urlencoded\", post_data=f\"update={query_encoded}\")\n",
    "    os.system(cmd)"
   ]
  },
  {
   "cell_type": "markdown",
   "metadata": {},
   "source": [
    "### Requêtes pour faire des sélections dans le graphe"
   ]
  },
  {
   "cell_type": "code",
   "execution_count": 26,
   "metadata": {},
   "outputs": [],
   "source": [
    "# Sélection des noms qu'a pris la place de la Nation durant sa vie\n",
    "query = \"\"\"\n",
    "PREFIX addr: <http://rdf.geohistoricaldata.org/address#>\n",
    "PREFIX rdfs: <http://www.w3.org/2000/01/rdf-schema#>\n",
    "PREFIX skos: <http://www.w3.org/2004/02/skos/core#>\n",
    "\n",
    "select ?street ?name ?timeValueStart ?timeValueEnd where { \n",
    "\t?street a addr:Landmark; addr:isLandmarkType addr:Thoroughfare; addr:hasAttribute ?attrName; (rdfs:label|skos:altLabel) \"place de la Nation\"@fr.\n",
    "    ?attrName a addr:Attribute; addr:isAttributeType addr:NameAttribute; addr:version ?attrNameVersion.\n",
    "    ?attrNameVersion addr:value ?name.\n",
    "    ?changeEnd addr:before ?attrNameVersion; addr:appliedTo ?attrName; addr:dependsOn ?eventEnd.\n",
    "    ?changeStart addr:after ?attrNameVersion; addr:appliedTo ?attrName; addr:dependsOn ?eventStart.\n",
    "    ?eventEnd a addr:Event.\n",
    "    ?eventStart a addr:Event.\n",
    "    OPTIONAL {?eventEnd addr:hasTime [a addr:TimeInstant; addr:timeStamp ?timeValueEnd]}\n",
    "    OPTIONAL {?eventEnd addr:hasTime [a addr:TimeInstant; addr:timePrecision ?timePrecisionEnd]}\n",
    "    OPTIONAL {?eventEnd addr:hasTime [a addr:TimeInstant; addr:timeCalendar ?timeCalendarEnd]}\n",
    "    OPTIONAL {?eventStart addr:hasTime [a addr:TimeInstant; addr:timeStamp ?timeValueStart]}\n",
    "    OPTIONAL {?eventStart addr:hasTime [a addr:TimeInstant; addr:timePrecision ?timePrecisionStart]}\n",
    "    OPTIONAL {?eventStart addr:hasTime [a addr:TimeInstant; addr:timeCalendar ?timeCalendarStart]}\n",
    "\"\"\" \n",
    "\n",
    "# Sélection de l'historique des noms de la place de la Nation avec les dates\n",
    "query = \"\"\"\n",
    "PREFIX addr: <http://rdf.geohistoricaldata.org/address#>\n",
    "PREFIX rdfs: <http://www.w3.org/2000/01/rdf-schema#>\n",
    "PREFIX skos: <http://www.w3.org/2004/02/skos/core#>\n",
    "\n",
    "select ?street ?change ?event ?timeValue ?timePrecision ?timeCalendar ?beforeVersion ?afterVersion where { \n",
    "\t?street a addr:Landmark; addr:isLandmarkType addr:Thoroughfare; addr:hasAttribute ?attrName; (rdfs:label|skos:altLabel) \"place de la Nation\"@fr.\n",
    "    ?attrName a addr:Attribute; addr:isAttributeType addr:NameAttribute.\n",
    "    ?change addr:appliedTo ?attrName; addr:dependsOn ?event.\n",
    "    ?event a addr:Event.\n",
    "    OPTIONAL {?event addr:hasTime [a addr:TimeInstant; addr:timeStamp ?timeValue]}\n",
    "    OPTIONAL {?event addr:hasTime [a addr:TimeInstant; addr:timePrecision ?timePrecision]}\n",
    "    OPTIONAL {?event addr:hasTime [a addr:TimeInstant; addr:timeCalendar ?timeCalendar]}\n",
    "    OPTIONAL {?change addr:before [addr:value ?beforeVersion]}\n",
    "    OPTIONAL {?change addr:after [addr:value ?afterVersion]}\n",
    "}\n",
    "\"\"\"\n",
    "\n",
    "# Sélection du nom de la place de la Nation à une date donnée\n",
    "query = \"\"\"\n",
    "PREFIX addr: <http://rdf.geohistoricaldata.org/address#>\n",
    "PREFIX rdfs: <http://www.w3.org/2000/01/rdf-schema#>\n",
    "PREFIX skos: <http://www.w3.org/2004/02/skos/core#>\n",
    "PREFIX xsd: <http://www.w3.org/2001/XMLSchema#>\n",
    "\n",
    "select ?street ?name ?selectTime where { \n",
    "\t?street a addr:Landmark; addr:isLandmarkType addr:Thoroughfare; addr:hasAttribute ?attrName; (rdfs:label|skos:altLabel) \"place de la Nation\"@fr.\n",
    "    BIND(\"1800-01-08T00:00:00\"^^xsd:dateTime AS ?selectTime)\n",
    "    ?attrName a addr:Attribute; addr:isAttributeType addr:NameAttribute; addr:version ?attrNameVersion.\n",
    "    ?attrNameVersion a addr:AttributeVersion; addr:value ?name.\n",
    "    ?change1 addr:before ?attrNameVersion; addr:dependsOn ?event1.\n",
    "    ?change2 addr:after ?attrNameVersion; addr:dependsOn ?event2.\n",
    "    ?event1 a addr:Event.\n",
    "    ?event2 a addr:Event.\n",
    "    OPTIONAL {?event1 addr:hasTime [a addr:TimeInstant; addr:timeStamp ?timeValue1]}\n",
    "    OPTIONAL {?event1 addr:hasTime [a addr:TimeInstant; addr:timePrecision ?timePrecision1]}\n",
    "    OPTIONAL {?event1 addr:hasTime [a addr:TimeInstant; addr:timeCalendar ?timeCalendar1]}\n",
    "    OPTIONAL {?event2 addr:hasTime [a addr:TimeInstant; addr:timeStamp ?timeValue2]}\n",
    "    OPTIONAL {?event2 addr:hasTime [a addr:TimeInstant; addr:timePrecision ?timePrecision2]}\n",
    "    OPTIONAL {?event2 addr:hasTime [a addr:TimeInstant; addr:timeCalendar ?timeCalendar2]}\n",
    "    FILTER ((?timeValue1 >= ?selectTime && ?timeValue2 <= ?selectTime && ?timeCalendar1 = ?timeCalendar2) ||\n",
    "        (?timeValue1 >= ?selectTime && !BOUND(?timeValue2)) ||\n",
    "        (?timeValue2 <= ?selectTime && !BOUND(?timeValue1))\n",
    "    ) \n",
    "}\n",
    "\"\"\" "
   ]
  }
 ],
 "metadata": {
  "kernelspec": {
   "display_name": "Python 3",
   "language": "python",
   "name": "python3"
  },
  "language_info": {
   "codemirror_mode": {
    "name": "ipython",
    "version": 3
   },
   "file_extension": ".py",
   "mimetype": "text/x-python",
   "name": "python",
   "nbconvert_exporter": "python",
   "pygments_lexer": "ipython3",
   "version": "3.9.0"
  },
  "orig_nbformat": 4
 },
 "nbformat": 4,
 "nbformat_minor": 2
}
