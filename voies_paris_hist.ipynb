{
 "cells": [
  {
   "cell_type": "markdown",
   "metadata": {},
   "source": [
    "## Variables"
   ]
  },
  {
   "cell_type": "markdown",
   "metadata": {},
   "source": [
    "### Import des librairies"
   ]
  },
  {
   "cell_type": "code",
   "execution_count": 1,
   "metadata": {},
   "outputs": [],
   "source": [
    "import os\n",
    "import urllib.parse as up\n",
    "from rdflib import Graph\n",
    "import code.functions as fn"
   ]
  },
  {
   "cell_type": "markdown",
   "metadata": {},
   "source": [
    "### Définition des variables globales"
   ]
  },
  {
   "cell_type": "code",
   "execution_count": 2,
   "metadata": {},
   "outputs": [],
   "source": [
    "# Fichiers existants\n",
    "addr_ont_file = \"address_ont.ttl\"\n",
    "ev_ont_file = \"events_ont.ttl\"\n",
    "\n",
    "# Fichiers créés durant le processus\n",
    "export_file = \"addresses-temp.ttl\"\n",
    "out_file = \"addresses.ttl\"\n",
    "local_config_file_name = \"config_repo.ttl\"\n",
    "\n",
    "temp_folder = \"tmp_files\"\n",
    "source_folder = \"sources\"\n",
    "mapping_folder = \"mappings\"\n",
    "wikidata_folder = \"wikidata\"\n",
    "\n",
    "project_name = \"voies_paris_hist\" \n",
    "graphdb_url = \"http://localhost:7200\"\n",
    "\n",
    "wd_graph_name = \"wikidata\"\n",
    "addr_graph_name = \"local_street\""
   ]
  },
  {
   "cell_type": "markdown",
   "metadata": {},
   "source": [
    "### Traitement des variables globales\n",
    "\n",
    "* Obtention des chemins absolus des fichiers à partir des chemins relatifs donnés dans la section précédente\n",
    "* Création d'un dossier temporaire s'il n'existe pas encore pour stocker des fichiers à vocation d'être supprimés"
   ]
  },
  {
   "cell_type": "code",
   "execution_count": 3,
   "metadata": {},
   "outputs": [],
   "source": [
    "temp_folder = os.path.abspath(temp_folder)\n",
    "wikidata_folder = os.path.join(temp_folder, wikidata_folder)\n",
    "source_folder = os.path.abspath(source_folder)\n",
    "mapping_folder = os.path.abspath(mapping_folder)\n",
    "\n",
    "fn.create_folder_if_not_exists(temp_folder)\n",
    "fn.create_folder_if_not_exists(wikidata_folder)\n",
    "\n",
    "local_config_file_name = os.path.join(temp_folder, local_config_file_name)"
   ]
  },
  {
   "cell_type": "markdown",
   "metadata": {},
   "source": [
    "## Gestion du répertoire local"
   ]
  },
  {
   "cell_type": "markdown",
   "metadata": {},
   "source": [
    "### Création du répertoire local dans GraphDB\n",
    "Pour que la création marche, il faut que GraphDB soit lancé et donc que l'URI donné par `graphdb_url` fonctionne. Si le répertoire existe déjà, rien n'est fait"
   ]
  },
  {
   "cell_type": "code",
   "execution_count": 4,
   "metadata": {},
   "outputs": [
    {
     "name": "stdout",
     "output_type": "stream",
     "text": [
      "{\"message\":\"Repository voies_paris_hist already exists.\"}"
     ]
    },
    {
     "name": "stderr",
     "output_type": "stream",
     "text": [
      "  % Total    % Received % Xferd  Average Speed   Time    Time     Time  Current\n",
      "                                 Dload  Upload   Total   Spent    Left  Speed\n",
      "100  1649    0    57  100  1592   3406  95135 --:--:-- --:--:-- --:--:--  100k\n"
     ]
    },
    {
     "data": {
      "text/plain": [
       "0"
      ]
     },
     "execution_count": 4,
     "metadata": {},
     "output_type": "execute_result"
    }
   ],
   "source": [
    "fn.create_config_local_repository_file(local_config_file_name, project_name)\n",
    "url = f\"{graphdb_url}/rest/repositories\"\n",
    "curl_cmd_local = fn.get_curl_command(\"POST\", url, content_type=\"multipart/form-data\", form=f\"config=@{local_config_file_name}\")\n",
    "os.system(curl_cmd_local)"
   ]
  },
  {
   "cell_type": "markdown",
   "metadata": {},
   "source": [
    "### Vidage du répertoire local\n",
    "Le répertoire dont l'id est `project_name` pour y stocker les données récupérées, cela est utile si le répertoire existait déjà."
   ]
  },
  {
   "cell_type": "code",
   "execution_count": 5,
   "metadata": {},
   "outputs": [
    {
     "name": "stderr",
     "output_type": "stream",
     "text": [
      "  % Total    % Received % Xferd  Average Speed   Time    Time     Time  Current\n",
      "                                 Dload  Upload   Total   Spent    Left  Speed\n",
      "  0     0    0     0    0     0      0      0 --:--:-- --:--:-- --:--:--     0\n"
     ]
    },
    {
     "data": {
      "text/plain": [
       "0"
      ]
     },
     "execution_count": 5,
     "metadata": {},
     "output_type": "execute_result"
    }
   ],
   "source": [
    "url = f\"{graphdb_url}/repositories/{project_name}/statements\"\n",
    "cmd = fn.get_curl_command(\"DELETE\", url, content_type=\"application/x-turtle\")\n",
    "os.system(cmd)"
   ]
  },
  {
   "cell_type": "markdown",
   "metadata": {},
   "source": [
    "### Import des ontologies"
   ]
  },
  {
   "cell_type": "code",
   "execution_count": 6,
   "metadata": {},
   "outputs": [
    {
     "name": "stderr",
     "output_type": "stream",
     "text": [
      "  % Total    % Received % Xferd  Average Speed   Time    Time     Time  Current\n",
      "                                 Dload  Upload   Total   Spent    Left  Speed\n",
      "100 19366    0     0  100 19366      0   571k --:--:-- --:--:-- --:--:--  591k\n",
      "  % Total    % Received % Xferd  Average Speed   Time    Time     Time  Current\n",
      "                                 Dload  Upload   Total   Spent    Left  Speed\n",
      "100  7154    0     0  100  7154      0   171k --:--:-- --:--:-- --:--:--  174k\n"
     ]
    },
    {
     "data": {
      "text/plain": [
       "0"
      ]
     },
     "execution_count": 6,
     "metadata": {},
     "output_type": "execute_result"
    }
   ],
   "source": [
    "abs_addr_ont_file = os.path.abspath(addr_ont_file)\n",
    "abs_ev_ont_file = os.path.abspath(ev_ont_file)\n",
    "                              \n",
    "url = f\"{graphdb_url}/repositories/{project_name}/statements\"\n",
    "cmd_1 = fn.get_curl_command(\"POST\", url, content_type=\"application/x-turtle\", local_file=abs_addr_ont_file)\n",
    "cmd_2 = fn.get_curl_command(\"POST\", url, content_type=\"application/x-turtle\", local_file=abs_ev_ont_file)\n",
    "\n",
    "os.system(cmd_1)\n",
    "os.system(cmd_2)"
   ]
  },
  {
   "cell_type": "markdown",
   "metadata": {},
   "source": [
    "## Import des données de Wikidata\n",
    "Récupération des fichiers ttl d'éléments de Wikidata (voies, quartiers, arrondissements de Paris). Ensuite ces fichiers sont importés dans le répertoire local."
   ]
  },
  {
   "cell_type": "markdown",
   "metadata": {},
   "source": [
    "### Récupération des éléments de Wikidata\n",
    "Pour chaque élément Wikidata décrivant une rue de Paris, on extrait un fichier `ttl` le décrivant.\n",
    "Ce processus peut prendre du temps (environ 1 heure et demie) du fait du nombre d'éléments à récupérer (presque 7000)."
   ]
  },
  {
   "cell_type": "markdown",
   "metadata": {},
   "source": [
    "#### Création des requêtes\n",
    "Création des requêtes pour récupérer les données liées aux voies de Paris et une autre pour avoir les zones de la ville (quartiers administratifs et arrondissements)"
   ]
  },
  {
   "cell_type": "code",
   "execution_count": 13,
   "metadata": {},
   "outputs": [],
   "source": [
    "qid_variable = \"qid\"\n",
    "\n",
    "query_streets = f\"\"\"\n",
    "SELECT DISTINCT ?{qid_variable}\n",
    "WHERE {{\n",
    "{{?{qid_variable} p:P361 [ps:P361 wd:Q16024163].}}\n",
    "UNION\n",
    "{{?{qid_variable} p:P361 [ps:P361 wd:Q107311481].}}\n",
    "}}\n",
    "ORDER BY ?{qid_variable}\n",
    "\"\"\"\n",
    "\n",
    "query_areas = f\"\"\"\n",
    "SELECT DISTINCT ?qid WHERE {{\n",
    "  {{BIND (wd:Q90 AS ?{qid_variable}) }}\n",
    "  UNION{{?{qid_variable} p:P31 [ps:P31 wd:Q252916].}}\n",
    "  UNION{{?{qid_variable} p:P31 [ps:P31 wd:Q702842]; p:P131 [ps:P131 wd:Q90].}}\n",
    "}}\n",
    "\"\"\""
   ]
  },
  {
   "cell_type": "markdown",
   "metadata": {},
   "source": [
    "#### Lancement des requêtes"
   ]
  },
  {
   "cell_type": "code",
   "execution_count": 14,
   "metadata": {},
   "outputs": [],
   "source": [
    "# Décommenter ces lignes pour récupérer les données\n",
    "\n",
    "# # Récupération des voies de Paris\n",
    "# fn.get_ttl_files_from_wikidata_query(query_streets, qid_variable, wikidata_folder, flavor=\"dump\")\n",
    "\n",
    "# #Récupération des zones de Paris\n",
    "# fn.get_ttl_files_from_wikidata_query(query_areas, qid_variable, wikidata_folder, flavor=\"dump\")"
   ]
  },
  {
   "cell_type": "markdown",
   "metadata": {},
   "source": [
    "### Import des fichiers `ttl` venant de Wikidata\n",
    "Importer tous les fichiers ttl dans un graphe nommé défini par `wd_graph_name` dans le répertoire (une dizaine de minutes pour 7000 fichiers)"
   ]
  },
  {
   "cell_type": "code",
   "execution_count": null,
   "metadata": {},
   "outputs": [],
   "source": [
    "fn.upload_ttl_folder_in_graphdb_repository(wikidata_folder, graphdb_url, project_name, wd_graph_name)"
   ]
  },
  {
   "cell_type": "markdown",
   "metadata": {},
   "source": [
    "## Traitements pour créer / importer des données"
   ]
  },
  {
   "cell_type": "markdown",
   "metadata": {},
   "source": [
    "### Requêtes SPARQL pour construire le graphe des rues de Paris à partir de Wikidata"
   ]
  },
  {
   "cell_type": "markdown",
   "metadata": {},
   "source": [
    ":warning: Impossible de chaîner les requêtes sur le endpoint de Wikidata, d'où la séparation de celles-ci sous plusieurs variables\n",
    "\n",
    "Note : `wd:Q16024163` décrit l'élément `réseau viaire de Paris` donc le triplet `?street p:P361 [ps:P361 wd:Q16024163].` permet de sélectionner les élements qui font partie de ce réseau. `wd:Q107311481` est similaire à la différence qu'il décrit l'élément `anciennes voies de Paris`.\n",
    "\n",
    "* `query_1` : sélection des voies de Paris avec leur label, leurs potentiels alias, ainsi que leur localisation (arrondissements et/ou quartiers)\n",
    "* `query_2` : sélection des voies de Paris avec l'ensemble de leur nom officiel avec si elles existent les dates de début et de fin de validité du nom officiel pour la voie\n",
    "* `query_3` : sélection (si elles existent) des dates de création et de disparition des voies de Paris\n",
    "* `query_4` : sélection des arrondissements de Paris avec leur label, leurs potentiels alias et leur localisation (qui est normalement Paris, ie `wd:Q90`)\n",
    "* `query_5` : similaire à `query_4` mais repose sur les quartiers de Paris (leur localisation est normalement un arrondissement)\n",
    "* `query_6` : récupération de données sur la ville de Paris (label, alias)\n"
   ]
  },
  {
   "cell_type": "code",
   "execution_count": 5,
   "metadata": {},
   "outputs": [
    {
     "name": "stderr",
     "output_type": "stream",
     "text": [
      "  % Total    % Received % Xferd  Average Speed   Time    Time     Time  Current\n",
      "                                 Dload  Upload   Total   Spent    Left  Speed\n",
      "100  2653    0  2653    0     0   183k      0 --:--:-- --:--:-- --:--:--  199k\n"
     ]
    }
   ],
   "source": [
    "# Récupération de l'URI des graphes à partir de leur nom\n",
    "wd_graph_name_uri = fn.get_graph_uri_from_name(graphdb_url, project_name, wd_graph_name)\n",
    "addr_graph_name_uri = fn.get_graph_uri_from_name(graphdb_url, project_name, addr_graph_name)\n",
    "\n",
    "# Récupération des préfixes pour les requêtes\n",
    "prefixes = fn.get_repository_prefixes(graphdb_url, project_name)"
   ]
  },
  {
   "cell_type": "code",
   "execution_count": 6,
   "metadata": {},
   "outputs": [],
   "source": [
    "# Structurer les rues de Paris, et les zones selon notre modèle\n",
    "\n",
    "# Vider le graphe `addr_graph_name_uri`\n",
    "query_0 = prefixes + f\"\"\"\n",
    "DELETE {{ ?s ?p ?o }}\n",
    "WHERE {{ GRAPH <{addr_graph_name_uri}> {{ ?s ?p ?o }} }}\n",
    "\"\"\"\n",
    "\n",
    "query1 = prefixes + f\"\"\"\n",
    "INSERT {{ GRAPH <{addr_graph_name_uri}> {{\n",
    " ?street a addr:Landmark;\n",
    "           addr:isLandmarkType addr:Thoroughfare;\n",
    "           rdfs:label ?streetLabel;\n",
    "           skos:altLabel ?streetAltLabel;\n",
    "           addr:within ?loc ;\n",
    "           addr:hasAttribute ?officialNameAttr.\n",
    "}} }}\n",
    "WHERE {{ GRAPH <{wd_graph_name_uri}> {{\n",
    "  {{ ?street p:P361 [ps:P361 wd:Q16024163]. }}\n",
    "  UNION\n",
    "  {{ ?street p:P361 [ps:P361 wd:Q107311481]. }}\n",
    "  ?street wdt:P131 ?loc.\n",
    "  ?street rdfs:label ?streetLabel.\n",
    "  FILTER (LANG(?streetLabel) = \"fr\")\n",
    "  OPTIONAL {{?street skos:altLabel ?streetAltLabel. FILTER (LANG(?streetAltLabel) = \"fr\")}}\n",
    "}} }}\n",
    "\"\"\"\n",
    "\n",
    "# Get official name of streets and its history\n",
    "query2 = prefixes + f\"\"\"\n",
    "INSERT {{ GRAPH <{addr_graph_name_uri}> {{\n",
    "  ?street addr:hasAttributeVersion ?officialNameSt.\n",
    "  ?officialNameSt a addr:AttributeVersion; addr:isAttributeType addr:NameAttribute; addr:value ?officialName.\n",
    "  ?startEvent a addr:Event; addr:eventTimeValue ?startDateValue; addr:eventTimePrecision ?startDatePrec.\n",
    "  ?endEvent a addr:Event; addr:eventTimeValue ?endDateValue; addr:eventTimePrecision ?endDatePrec.\n",
    "  ?startChange a addr:AttributeChange; addr:isChangeType addr:NameChange; addr:dependsOn ?startEvent; addr:after ?officialNameSt.\n",
    "  ?endChange a addr:AttributeChange; addr:isChangeType addr:NameChange; addr:dependsOn ?endEvent; addr:before ?officialNameSt.\n",
    "}} }}\n",
    "WHERE {{ GRAPH <{wd_graph_name_uri}> {{\n",
    "    BIND(URI(CONCAT(\"http://rdf.geohistoricaldata.org/address#EV_\", STRUUID())) AS ?startEvent)\n",
    "    BIND(URI(CONCAT(\"http://rdf.geohistoricaldata.org/address#CH_\", STRUUID())) AS ?startChange)\n",
    "    BIND(URI(CONCAT(\"http://rdf.geohistoricaldata.org/address#EV_\", STRUUID())) AS ?endEvent)\n",
    "    BIND(URI(CONCAT(\"http://rdf.geohistoricaldata.org/address#CH_\", STRUUID())) AS ?endChange)\n",
    "  {{ ?street p:P361 [ps:P361 wd:Q16024163]. }}\n",
    "  UNION\n",
    "  {{ ?street p:P361 [ps:P361 wd:Q107311481]. }}\n",
    "    ?street p:P1448 ?officialNameSt. \n",
    "    ?officialNameSt ps:P1448 ?officialName.\n",
    "    OPTIONAL{{?officialNameSt pqv:P580 [wikibase:timeValue ?startDateValue; wikibase:timePrecision ?startDatePrec]}}\n",
    "    OPTIONAL{{?officialNameSt pqv:P582 [wikibase:timeValue ?endDateValue; wikibase:timePrecision ?endDatePrec]}}\n",
    "    #FILTER (LANG(?officialName) = \"fr\")\n",
    "}} }}\n",
    "\"\"\"\n",
    "\n",
    "# Get creation and dissolution dates of streets\n",
    "query3 = prefixes + f\"\"\"\n",
    "INSERT {{ GRAPH <{addr_graph_name_uri}> {{\n",
    "  ?startEvent a addr:Event; addr:eventTimeValue ?creationTimeValue; addr:eventTimePrecision ?creationTimePrecision.\n",
    "  ?endEvent a addr:Event; addr:eventTimeValue ?dissolutionTimeValue; addr:eventTimePrecision ?dissolutionTimePrecision.\n",
    "  ?startChange a addr:LandmarkChange; addr:isChangeType addr:Creation; addr:appliedTo ?street; addr:dependsOn ?startEvent.\n",
    "  ?endChange a addr:LandmarkChange; addr:isChangeType addr:Dissolution; addr:appliedTo ?street; addr:dependsOn ?endEvent.\n",
    "}} }}\n",
    "WHERE {{ GRAPH <{wd_graph_name_uri}>  {{\n",
    "    BIND(URI(CONCAT(\"http://rdf.geohistoricaldata.org/address#EV_\", STRUUID())) AS ?startEvent)\n",
    "    BIND(URI(CONCAT(\"http://rdf.geohistoricaldata.org/address#CH_\", STRUUID())) AS ?startChange)\n",
    "    BIND(URI(CONCAT(\"http://rdf.geohistoricaldata.org/address#EV_\", STRUUID())) AS ?endEvent)\n",
    "    BIND(URI(CONCAT(\"http://rdf.geohistoricaldata.org/address#CH_\", STRUUID())) AS ?endChange)\n",
    "  {{ ?street p:P361 [ps:P361 wd:Q16024163]. }}\n",
    "  UNION\n",
    "  {{ ?street p:P361 [ps:P361 wd:Q107311481]. }}\n",
    "    OPTIONAL {{ ?street p:P571 [psv:P571 [wikibase:timeValue ?creationTimeValue; wikibase:timePrecision ?creationTimePrecision]]. }}\n",
    "    OPTIONAL {{ ?street p:P576 [psv:P576 [wikibase:timeValue ?dissolutionTimeValue; wikibase:timePrecision ?dissolutionTimePrecision]]. }}\n",
    "}} }}\n",
    "\"\"\"\n",
    "\n",
    "# Get related data of municipal arrondissements of Paris\n",
    "query4 = prefixes + f\"\"\"\n",
    "INSERT {{ GRAPH <{addr_graph_name_uri}> {{\n",
    "  ?arrdt a addr:Landmark;\n",
    "           addr:isLandmarkType addr:District;\n",
    "           rdfs:label ?arrdtLabel;\n",
    "           skos:altLabel ?arrdtAltLabel;\n",
    "           addr:within wd:Q90;\n",
    "           addr:startDate ?startDate.\n",
    "}} }}\n",
    "WHERE {{ GRAPH <{wd_graph_name_uri}>  {{\n",
    "  ?arrdt wdt:P31 wd:Q702842; p:P131 [ps:P131 wd:Q90]; rdfs:label ?arrdtLabel; skos:altLabel ?arrdtAltLabel.\n",
    "  FILTER(LANG(?arrdtLabel) = \"fr\" && LANG(?arrdtAltLabel) = \"fr\")\n",
    "  OPTIONAL {{?arrdt wdt:P571 ?startDate}}\n",
    "}} }}\n",
    "\"\"\"\n",
    "\n",
    "# Get related data of quartiers of Paris\n",
    "query5 = prefixes + f\"\"\"\n",
    "INSERT {{ GRAPH <{addr_graph_name_uri}> {{\n",
    "  ?quartier a addr:Landmark;\n",
    "           addr:isLandmarkType addr:District;\n",
    "           rdfs:label ?quartierLabel;\n",
    "           skos:altLabel ?quartierAltLabel;\n",
    "           addr:within ?loc.\n",
    "}} }}\n",
    "WHERE {{ GRAPH <{wd_graph_name_uri}>  {{\n",
    "  ?quartier wdt:P31 wd:Q252916; rdfs:label ?quartierLabel; skos:altLabel ?quartierAltLabel; p:P131 [ps:P131 ?loc].\n",
    "  FILTER(LANG(?quartierLabel) = \"fr\" && LANG(?quartierAltLabel) = \"fr\")\n",
    "}} }}\n",
    "\"\"\"\n",
    "\n",
    "# Get related data of Paris\n",
    "query6 = prefixes + f\"\"\"\n",
    "INSERT {{ GRAPH <{addr_graph_name_uri}> {{\n",
    "  ?paris a addr:Landmark;\n",
    "           addr:isLandmarkType addr:City;\n",
    "           rdfs:label ?parisLabel;\n",
    "           skos:altLabel ?parisAltLabel.\n",
    "}} }}\n",
    "WHERE {{ GRAPH <{wd_graph_name_uri}>  {{\n",
    "  BIND (wd:Q90 AS ?paris)\n",
    "  ?paris rdfs:label ?parisLabel; skos:altLabel ?parisAltLabel.\n",
    "  FILTER(LANG(?parisLabel) = \"fr\" && LANG(?parisAltLabel) = \"fr\")\n",
    "}} }}\n",
    "\"\"\"\n",
    "\n",
    "wiki_queries = [query_0, query1, query2, query3, query4, query5, query6]"
   ]
  },
  {
   "cell_type": "markdown",
   "metadata": {},
   "source": [
    "#### Traitements après l'import de données\n",
    "\n",
    "* `loc_query_1` : \n",
    "    * ajoute un élément de classe `addr:Attribute` relatif au nom de la voie qui permet d'avoir l'ensemble des noms officiels que cette dernière a porté durant son existence. Il est lié à la voie via le prédicat `addr:hasAttribute` ;\n",
    "    * `BIND(URI(...) AS ?z)` est appelé deux fois afin que `?attrName` soit unique pour chaque rue (sinon il possède la même valeur tout le temps).\n",
    "* `loc_query_2` : lors de la construction du graphe via les requêtes de la section précédente, les versions des noms sont liées directement aux voies (`?voie ?aPourVersionDeNom ?nomVersion`). Cette requête supprime ce triplet et associe `nomVersion` a l'élément crée grâce à `loc_query_1`. Ainsi, on a : `?voie ?aPourAttributDeNom ?nomAttribut. ?nomAttribut ?aPourVersionDeNom ?nomVersion.`\n",
    "* `loc_query_3` : fusion d'éléments de type `addr:Event` qui sont équivalents."
   ]
  },
  {
   "cell_type": "code",
   "execution_count": 7,
   "metadata": {},
   "outputs": [],
   "source": [
    "# Get streets of Paris with the history of their official name\n",
    "\n",
    "loc_query_1 = prefixes + \"\"\"\n",
    "INSERT {\n",
    "    ?street addr:hasAttribute ?attrName.\n",
    "    ?attrName a addr:Attribute; addr:isAttributeType addr:NameAttribute.\n",
    "}\n",
    "WHERE {\n",
    "    BIND(URI(CONCAT(\"http://rdf.geohistoricaldata.org/address#AN_\", STRUUID())) AS ?attrName)\n",
    "    ?street a addr:Landmark; addr:isLandmarkType addr:Thoroughfare.\n",
    "    BIND(URI(CONCAT(\"http://rdf.geohistoricaldata.org/address#AN_\", STRUUID())) AS ?x)\n",
    "}\n",
    "\"\"\"\n",
    "\n",
    "loc_query_2 = prefixes + \"\"\"\n",
    "DELETE {\n",
    "     ?street addr:hasAttributeVersion ?attrNameVersion.\n",
    "     ?attrNameVersion addr:isAttributeType addr:NameAttribute.\n",
    "}\n",
    "INSERT {\n",
    "    ?attrName addr:version ?attrNameVersion.\n",
    "    ?change addr:appliedTo ?attrName.\n",
    "}\n",
    "WHERE {\n",
    "    ?attrNameVersion a addr:AttributeVersion; addr:isAttributeType addr:NameAttribute.\n",
    "    ?attrName a addr:Attribute; addr:isAttributeType addr:NameAttribute.\n",
    "    ?street a addr:Landmark; addr:isLandmarkType addr:Thoroughfare; addr:hasAttributeVersion ?attrNameVersion; addr:hasAttribute ?attrName.\n",
    "    ?change a addr:AttributeChange; (addr:before|addr:after) ?attrNameVersion.\n",
    "}\n",
    "\"\"\"\n",
    "\n",
    "loc_query_3 = prefixes + \"\"\"\n",
    "DELETE {\n",
    "    ?change2 ?p ?o.\n",
    "    ?event2 ?pe ?oe.\n",
    "    ?se ?pe ?event2.\n",
    "}\n",
    "INSERT {\n",
    "    ?change1 addr:after ?attrNameVersion2.\n",
    "}\n",
    "WHERE {\n",
    "    ?attrName a addr:Attribute; addr:isAttributeType addr:NameAttribute; addr:version ?attrNameVersion1, ?attrNameVersion2.\n",
    "    ?attrNameVersion1 a addr:AttributeVersion.\n",
    "    ?attrNameVersion2 a addr:AttributeVersion.\n",
    "    FILTER (?attrNameVersion1 != ?attrNameVersion2)\n",
    "    ?change1 a addr:AttributeChange; addr:before ?attrNameVersion1; addr:dependsOn [a addr:Event; addr:eventTimeValue ?event1TimeVal; addr:eventTimePrecision ?event1TimePrec].\n",
    "    ?change2 a addr:AttributeChange; addr:after ?attrNameVersion2; addr:dependsOn ?event2.\n",
    "    ?event2 a addr:Event; addr:eventTimeValue ?event2TimeVal; addr:eventTimePrecision ?event2TimePrec.\n",
    "    BIND(ofn:asDays(?event2TimeVal - ?event1TimeVal) AS ?diffTime)\n",
    "    FILTER(?diffTime >= 0.0)\n",
    "    FILTER ((?diffTime <= 1.0 && ?event1TimePrec = 11 && ?event2TimePrec = 11) ||\n",
    "         (?diffTime <= 32.0 && ?event1TimePrec = 10 && ?event2TimePrec = 10) ||\n",
    "          (?diffTime <= 366.0 && ?event1TimePrec = 9 && ?event2TimePrec = 9) ||\n",
    "          (?diffTime <= 366.0*10 && ?event1TimePrec = 8 && ?event2TimePrec = 8) ||\n",
    "          (?diffTime <= 366.0*100 && ?event1TimePrec = 7 && ?event2TimePrec = 7) \n",
    "         )\n",
    "        ?change2 ?p ?o.\n",
    "        {?event2 ?pe ?oe}UNION{?se ?pe ?event2}\n",
    "}\n",
    "\"\"\"\n",
    "\n",
    "loc_queries = [loc_query_1, loc_query_2, loc_query_3] "
   ]
  },
  {
   "cell_type": "markdown",
   "metadata": {},
   "source": [
    "#### Import et nettoyage des données"
   ]
  },
  {
   "cell_type": "code",
   "execution_count": 11,
   "metadata": {},
   "outputs": [
    {
     "name": "stderr",
     "output_type": "stream",
     "text": [
      "  % Total    % Received % Xferd  Average Speed   Time    Time     Time  Current\n",
      "                                 Dload  Upload   Total   Spent    Left  Speed\n",
      "  0     0    0     0    0     0      0      0 --:--:-- --:--:-- --:--:--     0"
     ]
    },
    {
     "name": "stdout",
     "output_type": "stream",
     "text": [
      "PREFIX agg: <http://jena.apache.org/ARQ/function/aggregate#>\n",
      "PREFIX : <http://rdf.geohistoricaldata.org/address#>\n",
      "PREFIX pq: <http://www.wikidata.org/prop/qualifier/>\n",
      "PREFIX pr: <http://www.wikidata.org/prop/reference/>\n",
      "PREFIX ps: <http://www.wikidata.org/prop/statement/>\n",
      "PREFIX data: <https://www.wikidata.org/wiki/Special:EntityData/>\n",
      "PREFIX owl: <http://www.w3.org/2002/07/owl#>\n",
      "PREFIX geof: <http://www.opengis.net/def/function/geosparql/>\n",
      "PREFIX skos: <http://www.w3.org/2004/02/skos/core#>\n",
      "PREFIX ns2: <http://www.wikidata.org/prop/statement/>\n",
      "PREFIX pqn: <http://www.wikidata.org/prop/qualifier/value-normalized/>\n",
      "PREFIX ns1: <http://rdf.geohistoricaldata.org/address#>\n",
      "PREFIX ns4: <http://www.wikidata.org/prop/>\n",
      "PREFIX spif: <http://spinrdf.org/spif#>\n",
      "PREFIX ns3: <http://www.w3.org/2004/02/skos/core#>\n",
      "PREFIX ns6: <http://www.wikidata.org/prop/qualifier/value/>\n",
      "PREFIX path: <http://www.ontotext.com/path#>\n",
      "PREFIX ns5: <http://wikiba.se/ontology#>\n",
      "PREFIX ref: <http://www.wikidata.org/reference/>\n",
      "PREFIX pqv: <http://www.wikidata.org/prop/qualifier/value/>\n",
      "PREFIX apf: <http://jena.apache.org/ARQ/property#>\n",
      "PREFIX xml: <http://www.w3.org/XML/1998/namespace>\n",
      "PREFIX rep: <http://www.openrdf.org/config/repository#>\n",
      "PREFIX wgs: <http://www.w3.org/2003/01/geo/wgs84_pos#>\n",
      "PREFIX wikibase: <http://wikiba.se/ontology#>\n",
      "PREFIX list: <http://jena.apache.org/ARQ/list#>\n",
      "PREFIX prn: <http://www.wikidata.org/prop/reference/value-normalized/>\n",
      "PREFIX wdtn: <http://www.wikidata.org/prop/direct-normalized/>\n",
      "PREFIX prv: <http://www.wikidata.org/prop/reference/value/>\n",
      "PREFIX geoext: <http://rdf.useekm.com/ext#>\n",
      "PREFIX math: <http://www.w3.org/2005/xpath-functions/math>\n",
      "PREFIX schema: <http://schema.org/>\n",
      "PREFIX sail: <http://www.openrdf.org/config/sail#>\n",
      "PREFIX wdt: <http://www.wikidata.org/prop/direct/>\n",
      "PREFIX wds: <http://www.wikidata.org/entity/statement/>\n",
      "PREFIX xsd: <http://www.w3.org/2001/XMLSchema#>\n",
      "PREFIX fn: <http://www.w3.org/2005/xpath-functions>\n",
      "PREFIX rdfs: <http://www.w3.org/2000/01/rdf-schema#>\n",
      "PREFIX psn: <http://www.wikidata.org/prop/statement/value-normalized/>\n",
      "PREFIX wd: <http://www.wikidata.org/entity/>\n",
      "PREFIX geo: <http://www.opengis.net/ont/geosparql#>\n",
      "PREFIX psv: <http://www.wikidata.org/prop/statement/value/>\n",
      "PREFIX dct: <http://purl.org/dc/terms/>\n",
      "PREFIX array: <http://www.w3.org/2005/xpath-functions/array>\n",
      "PREFIX ontolex: <http://www.w3.org/ns/lemon/ontolex#>\n",
      "PREFIX addr: <http://rdf.geohistoricaldata.org/address#>\n",
      "PREFIX map: <http://www.w3.org/2005/xpath-functions/map>\n",
      "PREFIX prov: <http://www.w3.org/ns/prov#>\n",
      "PREFIX sr: <http://www.openrdf.org/config/repository/sail#>\n",
      "PREFIX cc: <http://creativecommons.org/ns#>\n",
      "PREFIX gn: <http://www.geonames.org/ontology#>\n",
      "PREFIX afn: <http://jena.apache.org/ARQ/function#>\n",
      "PREFIX p: <http://www.wikidata.org/prop/>\n",
      "PREFIX s: <http://www.wikidata.org/entity/statement/>\n",
      "PREFIX rdf: <http://www.w3.org/1999/02/22-rdf-syntax-ns#>\n",
      "PREFIX ofn: <http://www.ontotext.com/sparql/functions/>\n",
      "PREFIX v: <http://www.wikidata.org/value/>\n",
      "PREFIX graphdb: <http://www.ontotext.com/config/graphdb#>\n",
      "PREFIX wdno: <http://www.wikidata.org/prop/novalue/>\n",
      "PREFIX omgeo: <http://www.ontotext.com/owlim/geo#>\n",
      "\n",
      "INSERT { GRAPH <http://localhost:7200/repositories/voies_paris_hist/rdf-graphs/local_street> {\n",
      " ?street a addr:Landmark;\n",
      "           addr:isLandmarkType addr:Thoroughfare;\n",
      "           rdfs:label ?streetLabel;\n",
      "           skos:altLabel ?streetAltLabel;\n",
      "           addr:within ?loc ;\n",
      "           addr:hasAttribute ?officialNameAttr.\n",
      "} }\n",
      "WHERE { GRAPH <http://localhost:7200/repositories/voies_paris_hist/rdf-graphs/wikidata> {\n",
      "  { ?street p:P361 [ps:P361 wd:Q16024163]. }\n",
      "  UNION\n",
      "  { ?street p:P361 [ps:P361 wd:Q107311481]. }\n",
      "  ?street wdt:P131 ?loc.\n",
      "  ?street rdfs:label ?streetLabel.\n",
      "  FILTER (LANG(?streetLabel) = \"fr\")\n",
      "  OPTIONAL {?street skos:altLabel ?streetAltLabel. FILTER (LANG(?streetAltLabel) = \"fr\")}\n",
      "} }\n",
      "\n"
     ]
    },
    {
     "name": "stderr",
     "output_type": "stream",
     "text": [
      "100  4276    0     0  100  4276      0  17777 --:--:-- --:--:-- --:--:-- 17816\n"
     ]
    }
   ],
   "source": [
    "url = f\"{graphdb_url}/repositories/{project_name}/statements\"\n",
    "for query in wiki_queries[0:1]:\n",
    "    query_encoded = up.quote(query)\n",
    "    cmd = fn.get_curl_command(\"POST\", url, content_type=\"application/x-www-form-urlencoded\", post_data=f\"update={query_encoded}\")\n",
    "    os.system(cmd)\n",
    "\n",
    "# for loc_query in loc_queries:\n",
    "#     query_encoded = up.quote(loc_query)\n",
    "#     cmd = fn.get_curl_command(\"POST\", url, content_type=\"application/x-www-form-urlencoded\", post_data=f\"update={query_encoded}\")\n",
    "#     os.system(cmd)\n",
    "\n",
    "print(query1)"
   ]
  },
  {
   "cell_type": "markdown",
   "metadata": {},
   "source": [
    "### Requêtes pour faire des sélections dans le graphe"
   ]
  },
  {
   "cell_type": "code",
   "execution_count": null,
   "metadata": {},
   "outputs": [],
   "source": [
    "# Sélection des noms qu'a pris la place de la Nation durant sa vie\n",
    "query = \"\"\"\n",
    "PREFIX addr: <http://rdf.geohistoricaldata.org/address#>\n",
    "PREFIX rdfs: <http://www.w3.org/2000/01/rdf-schema#>\n",
    "PREFIX skos: <http://www.w3.org/2004/02/skos/core#>\n",
    "\n",
    "select ?street ?name where { \n",
    "\t?street a addr:Landmark; addr:isLandmarkType addr:Thoroughfare; addr:hasAttribute ?attrName; (rdfs:label|skos:altLabel) \"place de la Nation\"@fr.\n",
    "    ?attrName a addr:Attribute; addr:isAttributeType addr:NameAttribute; addr:version ?attrNameVersion.\n",
    "    ?attrNameVersion addr:value ?name.\n",
    "}\t\n",
    "\"\"\" \n",
    "\n",
    "# Sélection de l'historique des noms de la place de la Nation avec les dates\n",
    "query = \"\"\"\n",
    "PREFIX addr: <http://rdf.geohistoricaldata.org/address#>\n",
    "PREFIX rdfs: <http://www.w3.org/2000/01/rdf-schema#>\n",
    "PREFIX skos: <http://www.w3.org/2004/02/skos/core#>\n",
    "\n",
    "select ?street ?change ?event ?timeValue ?timePrecision ?beforeVersion ?afterVersion where { \n",
    "\t?street a addr:Landmark; addr:isLandmarkType addr:Thoroughfare; addr:hasAttribute ?attrName; (rdfs:label|skos:altLabel) \"place de la Nation\"@fr.\n",
    "    ?attrName a addr:Attribute; addr:isAttributeType addr:NameAttribute.\n",
    "    ?change addr:appliedTo ?attrName; addr:dependsOn ?event.\n",
    "    ?event a addr:Event.\n",
    "    OPTIONAL {?event addr:eventTimeValue ?timeValue}\n",
    "    OPTIONAL {?event addr:eventTimePrecision ?timePrecision}\n",
    "    OPTIONAL {?change addr:before [addr:value ?beforeVersion]}\n",
    "    OPTIONAL {?change addr:after [addr:value ?afterVersion]}\n",
    "}\t\n",
    "\"\"\"\n",
    "\n",
    "# Sélection du nom de la place de la Nation à une date donnée\n",
    "query = \"\"\"\n",
    "PREFIX addr: <http://rdf.geohistoricaldata.org/address#>\n",
    "PREFIX rdfs: <http://www.w3.org/2000/01/rdf-schema#>\n",
    "PREFIX skos: <http://www.w3.org/2004/02/skos/core#>\n",
    "PREFIX xsd: <http://www.w3.org/2001/XMLSchema#>\n",
    "\n",
    "select ?street ?name ?selectTime where { \n",
    "\t?street a addr:Landmark; addr:isLandmarkType addr:Thoroughfare; addr:hasAttribute ?attrName; (rdfs:label|skos:altLabel) \"place de la Nation\"@fr.\n",
    "    BIND(\"1782-01-08T00:00:00\"^^xsd:dateTime AS ?selectTime)\n",
    "    ?attrName a addr:Attribute; addr:isAttributeType addr:NameAttribute; addr:version ?attrNameVersion.\n",
    "    ?attrNameVersion a addr:AttributeVersion; addr:value ?name.\n",
    "    ?change1 addr:before ?attrNameVersion; addr:dependsOn ?event1.\n",
    "    ?change2 addr:after ?attrNameVersion; addr:dependsOn ?event2.\n",
    "    ?event1 a addr:Event.\n",
    "    ?event2 a addr:Event.\n",
    "    OPTIONAL {?event1 addr:eventTimeValue ?timeValue1}\n",
    "    OPTIONAL {?event1 addr:eventTimePrecision ?timePrecision1}\n",
    "    OPTIONAL {?event2 addr:eventTimeValue ?timeValue2}\n",
    "    OPTIONAL {?event2 addr:eventTimePrecision ?timePrecision2}\n",
    "    FILTER ((?timeValue1 >= ?selectTime && ?timeValue2 <= ?selectTime) ||\n",
    "        (?timeValue1 >= ?selectTime && !BOUND(?timeValue2)) ||\n",
    "        (?timeValue2 <= ?selectTime && !BOUND(?timeValue1))\n",
    "    ) \n",
    "}\t\n",
    "\"\"\" "
   ]
  }
 ],
 "metadata": {
  "kernelspec": {
   "display_name": "Python 3",
   "language": "python",
   "name": "python3"
  },
  "language_info": {
   "codemirror_mode": {
    "name": "ipython",
    "version": 3
   },
   "file_extension": ".py",
   "mimetype": "text/x-python",
   "name": "python",
   "nbconvert_exporter": "python",
   "pygments_lexer": "ipython3",
   "version": "3.10.12"
  },
  "orig_nbformat": 4
 },
 "nbformat": 4,
 "nbformat_minor": 2
}
