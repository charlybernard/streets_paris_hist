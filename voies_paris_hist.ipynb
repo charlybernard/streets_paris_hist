{
 "cells": [
  {
   "cell_type": "markdown",
   "metadata": {},
   "source": [
    "## Variables"
   ]
  },
  {
   "cell_type": "code",
   "execution_count": null,
   "metadata": {},
   "outputs": [],
   "source": [
    "import os\n",
    "import urllib.parse as up\n",
    "import uuid\n",
    "\n",
    "ont_file = \"address_ont.ttl\"\n",
    "data_file = \"voies-paris-2023.csv\"\n",
    "query_file = \"query.txt\"\n",
    "mapping_file = \"mapping.json\"\n",
    "export_file = \"addresses-temp.ttl\"\n",
    "out_file = \"addresses.ttl\"\n",
    "\n",
    "temp_folder = \"tmp_files\"\n",
    "source_folder = \"sources\"\n",
    "mapping_folder = \"mappings\"\n",
    "\n",
    "if not os.path.exists(temp_folder):\n",
    "    os.makedirs(temp_folder)\n",
    "\n",
    "export_format = \"TURTLE\"\n",
    "\n",
    "project_name = \"voies_paris_hist\" # This repository must exist in graphdb\n",
    "\n",
    "ontorefine_url = \"http://localhost:7333\"\n",
    "graphdb_url = \"http://localhost:7200\"\n",
    "\n",
    "# ontorefine_cmd = \"ontorefine-cli\"\n",
    "ontorefine_cmd = \"/opt/ontotext-refine/lib/app/bin/ontorefine-cli\"\n",
    "ontorefine_cmd = \"/Applications/Ontotext\\ Refine.app/Contents/app/bin/ontorefine-cli\"\n",
    "\n",
    "sources = [\n",
    "    {\"filename\": \"andriveau_1849_am.csv\", \"mapping_file\":\"mapping_andriveau_1849_am.json\",\"graphname\":\"andriveau1849\"},\n",
    "    {\"filename\": \"atlas_municipal_1888_am.csv\", \"mapping_file\":\"mapping_atlas_municipal_1888_am.json\",\"graphname\":\"atlasMunicipal1888\"},\n",
    "    {\"filename\": \"piquet_1826_am.csv\", \"mapping_file\":\"mapping_piquet_1826_am.json\",\"graphname\":\"piquet1826\"},\n",
    "    {\"filename\": \"verniquet_1791_am.csv\", \"mapping_file\":\"mapping_verniquet_1791_am.json\",\"graphname\":\"veriquet1791\"},\n",
    "]"
   ]
  },
  {
   "cell_type": "markdown",
   "metadata": {},
   "source": [
    "## Functions to create / import graphs"
   ]
  },
  {
   "cell_type": "markdown",
   "metadata": {},
   "source": [
    "### Create a ttl file in ontorefine from csv file"
   ]
  },
  {
   "cell_type": "code",
   "execution_count": null,
   "metadata": {},
   "outputs": [],
   "source": [
    "def get_export_file_from_ontorefine(data_file, mapping_file, export_file):\n",
    "    # Launch Ontorefine before launching this command\n",
    "    cmd = f\"{ontorefine_cmd} create \\\"{data_file}\\\" -u \\\"{ontorefine_url}\\\" -n \\\"{project_name}\\\"\"\n",
    "    msg = os.popen(cmd)\n",
    "\n",
    "    # Get project_id from message given by CLI\n",
    "    project_id = msg.read().split(\": \")[1].replace(\"\\n\", \"\")\n",
    "\n",
    "    # Launch Ontorefine before launching this command\n",
    "    cmd = f\"{ontorefine_cmd} rdf \\\"{project_id}\\\" -u {ontorefine_url} -m \\\"{mapping_file}\\\"\"\n",
    "    out_content = os.popen(cmd)\n",
    "    out_file = open(export_file, \"w\")\n",
    "    out_file.write(out_content.read())\n",
    "    out_file.close()\n",
    "\n",
    "    # Launch Ontorefine before launching this command\n",
    "    cmd = f\"{ontorefine_cmd} delete \\\"{project_id}\\\" -u {ontorefine_url}\"\n",
    "    os.system(cmd)"
   ]
  },
  {
   "cell_type": "markdown",
   "metadata": {},
   "source": [
    "### Import created ttl file in GraphDB"
   ]
  },
  {
   "cell_type": "code",
   "execution_count": null,
   "metadata": {},
   "outputs": [],
   "source": [
    "def import_ttl_file_in_graphdb(graphdb_url, repository_id, ttl_file, graph_name):\n",
    "    # cmd = f\"curl -X POST -H \\\"Content-Type:application/x-turtle\\\" -T \\\"{ttl_file}\\\" {graphdb_url}/repositories/{repository_id}/statements\"\n",
    "    cmd = f\"curl -X POST -H \\\"Content-Type:application/x-turtle\\\" -T \\\"{ttl_file}\\\" {graphdb_url}/repositories/{repository_id}/rdf-graphs/{graph_name}\"\n",
    "\n",
    "    os.system(cmd)"
   ]
  },
  {
   "cell_type": "markdown",
   "metadata": {},
   "source": [
    "## Process to create / import data"
   ]
  },
  {
   "cell_type": "markdown",
   "metadata": {},
   "source": [
    "### Remove all data of repository whose id is `project_name`"
   ]
  },
  {
   "cell_type": "code",
   "execution_count": null,
   "metadata": {},
   "outputs": [],
   "source": [
    "cmd = f\"curl -X DELETE -H \\\"Content-Type:application/x-turtle\\\" {graphdb_url}/repositories/{project_name}/statements\"\n",
    "os.system(cmd)"
   ]
  },
  {
   "cell_type": "markdown",
   "metadata": {},
   "source": [
    "### Import ontology"
   ]
  },
  {
   "cell_type": "code",
   "execution_count": null,
   "metadata": {},
   "outputs": [],
   "source": [
    "abs_ont_file = os.path.abspath(ont_file)\n",
    "cmd = f\"curl -X POST -H \\\"Content-Type:application/x-turtle\\\" -T \\\"{abs_ont_file}\\\" {graphdb_url}/repositories/{project_name}/statements\"\n",
    "\n",
    "os.system(cmd)"
   ]
  },
  {
   "cell_type": "markdown",
   "metadata": {},
   "source": [
    "### Import data created by Ontorefine from csv files in `sources_folder`"
   ]
  },
  {
   "cell_type": "code",
   "execution_count": null,
   "metadata": {},
   "outputs": [],
   "source": [
    "for source in sources:\n",
    "    data_file = os.path.join(source_folder, source[\"filename\"])\n",
    "    abs_data_file = os.path.abspath(data_file)\n",
    "    mapping_file = os.path.abspath(os.path.join(mapping_folder, source[\"mapping_file\"]))\n",
    "    graph_name = source[\"graphname\"]\n",
    "    export_file = os.path.join(temp_folder, source[\"filename\"]).replace(\".csv\",\".ttl\")\n",
    "    get_export_file_from_ontorefine(abs_data_file, mapping_file, export_file)\n",
    "    import_ttl_file_in_graphdb(graphdb_url, project_name, export_file, graph_name)"
   ]
  }
 ],
 "metadata": {
  "kernelspec": {
   "display_name": "Python 3",
   "language": "python",
   "name": "python3"
  },
  "language_info": {
   "codemirror_mode": {
    "name": "ipython",
    "version": 3
   },
   "file_extension": ".py",
   "mimetype": "text/x-python",
   "name": "python",
   "nbconvert_exporter": "python",
   "pygments_lexer": "ipython3",
   "version": "3.9.6"
  },
  "orig_nbformat": 4
 },
 "nbformat": 4,
 "nbformat_minor": 2
}
