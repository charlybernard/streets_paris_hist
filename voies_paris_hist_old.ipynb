{
 "cells": [
  {
   "cell_type": "markdown",
   "metadata": {},
   "source": [
    "## Variables"
   ]
  },
  {
   "cell_type": "markdown",
   "metadata": {},
   "source": [
    "### Import libraries"
   ]
  },
  {
   "cell_type": "code",
   "execution_count": 1,
   "metadata": {},
   "outputs": [],
   "source": [
    "import os\n",
    "import urllib.parse as up\n",
    "from SPARQLWrapper import SPARQLWrapper, TURTLE\n",
    "import uuid\n",
    "import sys\n",
    "import code.functions as fn"
   ]
  },
  {
   "cell_type": "markdown",
   "metadata": {},
   "source": [
    "### Define global variables"
   ]
  },
  {
   "cell_type": "code",
   "execution_count": null,
   "metadata": {},
   "outputs": [],
   "source": [
    "ont_file = \"address_ont.ttl\"\n",
    "mapping_file = \"mapping.json\"\n",
    "export_file = \"addresses-temp.ttl\"\n",
    "out_file = \"addresses.ttl\"\n",
    "\n",
    "temp_folder = \"tmp_files\"\n",
    "source_folder = \"sources\"\n",
    "mapping_folder = \"mappings\"\n",
    "\n",
    "if not os.path.exists(temp_folder):\n",
    "    os.makedirs(temp_folder)\n",
    "\n",
    "export_format = \"TURTLE\"\n",
    "\n",
    "project_name = \"voies_paris_hist\" # This repository must exist in graphdb\n",
    "\n",
    "ontorefine_url = \"http://localhost:7333\"\n",
    "graphdb_url = \"http://localhost:7200\"\n",
    "endpoint_url = \"https://query.wikidata.org/sparql\"\n",
    "\n",
    "# ontorefine_cmd = \"ontorefine-cli\"\n",
    "ontorefine_cmd = \"/opt/ontotext-refine/lib/app/bin/ontorefine-cli\"\n",
    "# ontorefine_cmd = \"/Applications/Ontotext\\ Refine.app/Contents/app/bin/ontorefine-cli\"\n",
    "\n",
    "sources = [\n",
    "    {\"filename\": \"andriveau_1849_am.csv\", \"mapping_file\":\"mapping_andriveau_1849_am.json\",\"graphname\":\"andriveau1849\", \"date\":\"1849-01-01\"},\n",
    "    {\"filename\": \"atlas_municipal_1888_am.csv\", \"mapping_file\":\"mapping_atlas_municipal_1888_am.json\",\"graphname\":\"atlasMunicipal1888\", \"date\":\"1888-01-01\"},\n",
    "    {\"filename\": \"piquet_1826_am.csv\", \"mapping_file\":\"mapping_piquet_1826_am.json\",\"graphname\":\"piquet1826\", \"date\":\"1826-01-01\"},\n",
    "    {\"filename\": \"verniquet_1791_am.csv\", \"mapping_file\":\"mapping_verniquet_1791_am.json\",\"graphname\":\"verniquet1791\", \"date\":\"1791-01-01\"},\n",
    "]"
   ]
  },
  {
   "cell_type": "markdown",
   "metadata": {},
   "source": [
    "## Process to create / import data"
   ]
  },
  {
   "cell_type": "markdown",
   "metadata": {},
   "source": [
    "### Queries to build graph from Wikidata"
   ]
  },
  {
   "cell_type": "markdown",
   "metadata": {},
   "source": [
    ":warning: Impossible to chain queries for Wikidata, it has to be split"
   ]
  },
  {
   "cell_type": "code",
   "execution_count": null,
   "metadata": {},
   "outputs": [],
   "source": [
    "# Get streets of Paris, with label, altLabel and their locations\n",
    "query1 = \"\"\"\n",
    "PREFIX addr: <http://rdf.geohistoricaldata.org/address#>\n",
    "\n",
    "CONSTRUCT {\n",
    " ?street a addr:Landmark;\n",
    "           addr:isLandmarkType addr:Thoroughfare;\n",
    "           rdfs:label ?streetLabel;\n",
    "           skos:altLabel ?streetAltLabel;\n",
    "           addr:within ?loc.\n",
    "}\n",
    "WHERE {\n",
    "  { ?street p:P361 [ps:P361 wd:Q16024163]. }\n",
    "  UNION\n",
    "  { ?street p:P361 [ps:P361 wd:Q107311481]. }\n",
    "  ?street wdt:P131 ?loc.\n",
    "  ?street rdfs:label ?streetLabel.\n",
    "  FILTER (LANG(?streetLabel) = \"fr\")\n",
    "  OPTIONAL {?street skos:altLabel ?streetAltLabel. FILTER (LANG(?streetAltLabel) = \"fr\")}\n",
    "}\n",
    "\"\"\"\n",
    "\n",
    "# Get streets of Paris with the history of their official name\n",
    "query2 = \"\"\"\n",
    "PREFIX addr: <http://rdf.geohistoricaldata.org/address#>\n",
    "\n",
    "CONSTRUCT {\n",
    "  ?street addr:hasOfficialName _:bn.\n",
    "  _:bn rdfs:label ?officialName; addr:startDate ?startDate; addr:endDate ?endDate.\n",
    "}\n",
    "WHERE {\n",
    "  { ?street p:P361 [ps:P361 wd:Q16024163]. }\n",
    "  UNION\n",
    "  { ?street p:P361 [ps:P361 wd:Q107311481]. }\n",
    "    ?street p:P1448 ?officialNameSt. \n",
    "    ?officialNameSt ps:P1448 ?officialName.\n",
    "    OPTIONAL{?officialNameSt pq:P580 ?startDate}\n",
    "    OPTIONAL{?officialNameSt pq:P582 ?endDate}\n",
    "    #FILTER (LANG(?officialName) = \"fr\")\n",
    "}\n",
    "\"\"\"\n",
    "\n",
    "# Get related data of municipal arrondissements of Paris\n",
    "query3 = \"\"\"\n",
    "PREFIX addr: <http://rdf.geohistoricaldata.org/address#>\n",
    "\n",
    "CONSTRUCT {\n",
    "  ?arrdt a addr:Landmark;\n",
    "           addr:isLandmarkType addr:District;\n",
    "           rdfs:label ?arrdtLabel;\n",
    "           skos:altLabel ?arrdtAltLabel;\n",
    "           addr:within wd:Q90;\n",
    "           addr:startDate ?startDate.\n",
    "}\n",
    "WHERE {\n",
    "  ?arrdt wdt:P31 wd:Q702842; p:P131 [ps:P131 wd:Q90]; rdfs:label ?arrdtLabel; skos:altLabel ?arrdtAltLabel.\n",
    "  FILTER(LANG(?arrdtLabel) = \"fr\" && LANG(?arrdtAltLabel) = \"fr\")\n",
    "  OPTIONAL {?arrdt wdt:P571 ?startDate}\n",
    "}\n",
    "\"\"\"\n",
    "\n",
    "# Get related data of quartiers of Paris\n",
    "query4 = \"\"\"\n",
    "PREFIX addr: <http://rdf.geohistoricaldata.org/address#>\n",
    "\n",
    "CONSTRUCT {\n",
    "  ?quartier a addr:Landmark;\n",
    "           addr:isLandmarkType addr:District;\n",
    "           rdfs:label ?quartierLabel;\n",
    "           skos:altLabel ?quartierAltLabel;\n",
    "           addr:within ?loc.\n",
    "}\n",
    "WHERE {\n",
    "  ?quartier wdt:P31 wd:Q252916; rdfs:label ?quartierLabel; skos:altLabel ?quartierAltLabel; p:P131 [ps:P131 ?loc].\n",
    "  FILTER(LANG(?quartierLabel) = \"fr\" && LANG(?quartierAltLabel) = \"fr\")\n",
    "}\n",
    "\"\"\"\n",
    "\n",
    "# Get related data of Paris\n",
    "query5 = \"\"\"\n",
    "PREFIX addr: <http://rdf.geohistoricaldata.org/address#>\n",
    "\n",
    "CONSTRUCT {\n",
    "  ?paris a addr:Landmark;\n",
    "           addr:isLandmarkType addr:City;\n",
    "           rdfs:label ?parisLabel;\n",
    "           skos:altLabel ?parisAltLabel.\n",
    "}\n",
    "WHERE {\n",
    "  BIND (wd:Q90 AS ?paris)\n",
    "  ?paris rdfs:label ?parisLabel; skos:altLabel ?parisAltLabel.\n",
    "  FILTER(LANG(?parisLabel) = \"fr\" && LANG(?parisAltLabel) = \"fr\")\n",
    "}\n",
    "\"\"\""
   ]
  },
  {
   "cell_type": "markdown",
   "metadata": {},
   "source": [
    "### Extract street data of Paris from Wikidata"
   ]
  },
  {
   "cell_type": "code",
   "execution_count": null,
   "metadata": {},
   "outputs": [],
   "source": [
    "abs_export_file = os.path.abspath(os.path.join(temp_folder, export_file))"
   ]
  },
  {
   "cell_type": "code",
   "execution_count": null,
   "metadata": {},
   "outputs": [],
   "source": [
    "g = fn.get_query_results(endpoint_url, query1)\n",
    "g += fn.get_query_results(endpoint_url, query2)\n",
    "g += fn.get_query_results(endpoint_url, query3)\n",
    "g += fn.get_query_results(endpoint_url, query4)\n",
    "g += fn.get_query_results(endpoint_url, query5)\n",
    "\n",
    "g.serialize(destination=abs_export_file)"
   ]
  },
  {
   "cell_type": "markdown",
   "metadata": {},
   "source": [
    "### Remove all data of repository whose id is `project_name`"
   ]
  },
  {
   "cell_type": "code",
   "execution_count": null,
   "metadata": {},
   "outputs": [],
   "source": [
    "cmd = f\"curl -X DELETE -H \\\"Content-Type:application/x-turtle\\\" {graphdb_url}/repositories/{project_name}/statements\"\n",
    "os.system(cmd)"
   ]
  },
  {
   "cell_type": "markdown",
   "metadata": {},
   "source": [
    "### Import ontology"
   ]
  },
  {
   "cell_type": "code",
   "execution_count": null,
   "metadata": {},
   "outputs": [],
   "source": [
    "abs_ont_file = os.path.abspath(ont_file)\n",
    "cmd = f\"curl -X POST -H \\\"Content-Type:application/x-turtle\\\" -T \\\"{abs_ont_file}\\\" {graphdb_url}/repositories/{project_name}/statements\"\n",
    "\n",
    "os.system(cmd)"
   ]
  },
  {
   "cell_type": "markdown",
   "metadata": {},
   "source": [
    "### Import created graph from Wikidata"
   ]
  },
  {
   "cell_type": "code",
   "execution_count": null,
   "metadata": {},
   "outputs": [],
   "source": [
    "cmd = f\"curl -X POST -H \\\"Content-Type:application/x-turtle\\\" -T \\\"{abs_export_file}\\\" {graphdb_url}/repositories/{project_name}/rdf-graphs/wikidata\"\n",
    "os.system(cmd)"
   ]
  },
  {
   "cell_type": "markdown",
   "metadata": {},
   "source": [
    "### Import data created by Ontorefine from csv files in `sources_folder`"
   ]
  },
  {
   "cell_type": "code",
   "execution_count": null,
   "metadata": {},
   "outputs": [],
   "source": [
    "for source in sources:\n",
    "    data_file = os.path.join(source_folder, source[\"filename\"])\n",
    "    abs_data_file = os.path.abspath(data_file)\n",
    "    mapping_file = os.path.abspath(os.path.join(mapping_folder, source[\"mapping_file\"]))\n",
    "    graph_name = source[\"graphname\"]\n",
    "    export_file = os.path.join(temp_folder, source[\"filename\"]).replace(\".csv\",\".ttl\")\n",
    "    fn.get_export_file_from_ontorefine(ontorefine_cmd, ontorefine_url, project_name, abs_data_file, mapping_file, export_file)\n",
    "    fn.import_ttl_file_in_graphdb(graphdb_url, project_name, export_file, graph_name)"
   ]
  },
  {
   "cell_type": "markdown",
   "metadata": {},
   "source": [
    "### Get links between data extracted from wikidata and data from sources"
   ]
  },
  {
   "cell_type": "code",
   "execution_count": null,
   "metadata": {},
   "outputs": [],
   "source": [
    "query_template = \"\"\"\n",
    "PREFIX addr: <http://rdf.geohistoricaldata.org/address#>\n",
    "PREFIX rdfs: <http://www.w3.org/2000/01/rdf-schema#>\n",
    "PREFIX xsd: <http://www.w3.org/2001/XMLSchema#>\n",
    "PREFIX owl: <http://www.w3.org/2002/07/owl#>\n",
    "\n",
    "INSERT {{\n",
    "    GRAPH <{graphdb_url}/repositories/{project_name}/rdf-graphs/{graph_name}> {{?streetG1 owl:sameAs ?streetG2.}}\n",
    "}}\n",
    "WHERE {{\n",
    "    GRAPH <{graphdb_url}/repositories/{project_name}/rdf-graphs/{graph_name}> {{\n",
    "        ?streetG1 addr:isLandmarkType addr:Thoroughfare ; rdfs:label ?streetNameG1.\n",
    "        BIND (LCASE(?streetNameG1) AS ?lcStreetNameG1)\n",
    "    }}\n",
    "    GRAPH <{graphdb_url}/repositories/{project_name}/rdf-graphs/wikidata> {{\n",
    "        ?streetG2 addr:isLandmarkType addr:Thoroughfare ; rdfs:label ?streetG2Name; addr:hasOfficialName ?offNameSt.\n",
    "        ?offNameSt rdfs:label ?offName.\n",
    "        OPTIONAL{{?offNameSt addr:startDate ?sd}}\n",
    "        OPTIONAL{{?offNameSt addr:endDate ?ed}}\n",
    "        BIND(\"{graph_date}\"^^xsd:dateTime AS ?g1date)\n",
    "        BIND(IF(BOUND(?sd), ?sd, \"{neg_inf_date}\"^^xsd:dateTime) AS ?startDate)\n",
    "        BIND(IF(BOUND(?ed), ?ed, \"{pos_inf_date}\"^^xsd:dateTime) AS ?endDate)\n",
    "        FILTER (?g1date >= ?startDate && ?g1date <= ?endDate)\n",
    "        BIND (LCASE(?offName) AS ?lcStreetNameG2)\n",
    "    }}\n",
    "    FILTER (?lcStreetNameG1 = ?lcStreetNameG2)\n",
    "}}\n",
    "\"\"\""
   ]
  },
  {
   "cell_type": "markdown",
   "metadata": {},
   "source": [
    "### Get `owl:sameAs` links for each street of each source graph with street of Wikidata graph"
   ]
  },
  {
   "cell_type": "code",
   "execution_count": null,
   "metadata": {},
   "outputs": [],
   "source": [
    "graph_date = \"1849-01-01\"\n",
    "pos_inf_date = \"6000-01-01\"\n",
    "neg_inf_date = \"-6000-01-01\"\n",
    "\n",
    "for source in sources:\n",
    "    query = query_template.format(graph_name=source[\"graphname\"], graph_date=source[\"date\"],\n",
    "                                  neg_inf_date=neg_inf_date, pos_inf_date=pos_inf_date,\n",
    "                                  project_name=project_name, graphdb_url=graphdb_url)\n",
    "    query_encoded = up.quote(query)\n",
    "    cmd = f\"curl -X POST -H \\\"Content-Type:application/x-www-form-urlencoded\\\" -d \\\"update={query_encoded}\\\" {graphdb_url}/repositories/{project_name}/statements\"\n",
    "\n",
    "    os.system(cmd)\n"
   ]
  }
 ],
 "metadata": {
  "kernelspec": {
   "display_name": "Python 3",
   "language": "python",
   "name": "python3"
  },
  "language_info": {
   "codemirror_mode": {
    "name": "ipython",
    "version": 3
   },
   "file_extension": ".py",
   "mimetype": "text/x-python",
   "name": "python",
   "nbconvert_exporter": "python",
   "pygments_lexer": "ipython3",
   "version": "3.9.0"
  },
  "orig_nbformat": 4
 },
 "nbformat": 4,
 "nbformat_minor": 2
}
